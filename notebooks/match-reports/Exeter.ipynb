{
 "cells": [
  {
   "cell_type": "markdown",
   "id": "7930b1c7",
   "metadata": {},
   "source": [
    "# Mansfield Post-Match Report"
   ]
  },
  {
   "cell_type": "markdown",
   "id": "ab69a03a",
   "metadata": {},
   "source": [
    "- Round 11 of the League one season saw Reading play Mansfield at Home.\n",
    "- Match ended in a 1-1 Draw."
   ]
  },
  {
   "cell_type": "markdown",
   "id": "4dddb625",
   "metadata": {},
   "source": [
    "# Analysis included in this Post-Match Report"
   ]
  },
  {
   "cell_type": "markdown",
   "id": "26f4e813",
   "metadata": {},
   "source": [
    "- Top Stats Comparison\n",
    "- Attacking Stats Comparion\n",
    "- Passing/Possession Stats Comparison\n",
    "- Defensive Stats Comparison\n",
    "- Goalkeeper Comparison"
   ]
  },
  {
   "cell_type": "markdown",
   "id": "d471298c",
   "metadata": {},
   "source": [
    "# Loading Data"
   ]
  },
  {
   "cell_type": "code",
   "execution_count": 1,
   "id": "3b095fae",
   "metadata": {},
   "outputs": [],
   "source": [
    "import pandas as pd\n",
    "import matplotlib.pyplot as plt\n",
    "import seaborn as sns\n",
    "import numpy as np\n",
    "\n",
    "df = pd.read_csv('../../data/rfc_matchdata.csv')\n",
    "\n",
    "# Filtering for Mansfield at Home\n",
    "df_mansfield_home = df[(df[\"Opponent\"] == \"Mansfield\") & (df[\"Venue\"] == \"H\")].reset_index(drop=True)\n",
    "\n",
    "match = df_mansfield_home.iloc[0]\n"
   ]
  },
  {
   "cell_type": "markdown",
   "id": "e267dd09",
   "metadata": {},
   "source": [
    "- \"rfc\" = Reading FC based stat\n",
    "- \"opp\" = Opponent based stat"
   ]
  },
  {
   "cell_type": "code",
   "execution_count": 2,
   "id": "b1c3d531",
   "metadata": {},
   "outputs": [
    {
     "name": "stdout",
     "output_type": "stream",
     "text": [
      "Opponent\n",
      "Round\n",
      "rfc_Score\n",
      "opp_Score\n",
      "Result\n",
      "Venue\n",
      "rfc_xG_1st\n",
      "rfc_xG_2nd\n",
      "rfc_xG\n",
      "rfc_Possession_1st\n",
      "rfc_Possession_2nd\n",
      "rfc_Possesion\n",
      "rfc_Shots_1st\n",
      "rfc_Shots_2nd\n",
      "rfc_Shots\n",
      "rfc_SOT_1st\n",
      "rfc_SOT_2nd\n",
      "rfc_SOT\n",
      "rfc_BigChances_1st\n",
      "rfc_BigChances_2nd\n",
      "rfc_BigChances\n",
      "rfc_Corners_1st\n",
      "rfc_Corners_2nd\n",
      "rfc_Corners\n",
      "rfc_Passes_1st\n",
      "rfc_Passes_2nd\n",
      "rfc_Passes\n",
      "rfc_Pass%_1st\n",
      "rfc_Pass%_2nd\n",
      "rfc_Pass%\n",
      "rfc_Shots_Inside_Box_1st\n",
      "rfc_Shots_Inside_Box_2nd\n",
      "rfc_Shots_Inside_Box\n",
      "rfc_Shots_Outside_Box_1st\n",
      "rfc_Shots_Outside_Box_2nd\n",
      "rfc_Shots_Outside_Box\n",
      "rfc_Touches_In_Opp_Box_1st\n",
      "rfc_Touches_In_Opp_Box_2nd\n",
      "rfc_Touches_In_Opp_Box\n",
      "rfc_Long_Passes_1st\n",
      "rfc_Long_Passes_2nd\n",
      "rfc_Long_Passes\n",
      "rfc_LongPass%_1st\n",
      "rfc_LongPass%_2nd\n",
      "rfc_LongPass%\n",
      "rfc_Passes_In_Final_Third_1st\n",
      "rfc_Passes_In_Final_Third_2nd\n",
      "rfc_Passes_In_Final_Third\n",
      "rfc_Pass_In_Final_Third%_1st\n",
      "rfc_Pass_In_Final_Third%_2nd\n",
      "rfc_Pass_In_Final_Third%\n",
      "rfc_Crosses_1st\n",
      "rfc_Crosses_2nd\n",
      "rfc_Crosses\n",
      "rfc_Cross%_1st\n",
      "rfc_Cross%_2nd\n",
      "rfc_Cross%\n",
      "rfc_xA_1st\n",
      "rfc_xA_2nd\n",
      "rfc_xA\n",
      "rfc_Fouls_1st\n",
      "rfc_Fouls_2nd\n",
      "rfc_Fouls\n",
      "rfc_Tackles_1st\n",
      "rfc_Tackles_2nd\n",
      "rfc_Tackles\n",
      "rfc_Tackle%_1st\n",
      "rfc_Tackle%_2nd\n",
      "rfc_Tackle%\n",
      "rfc_Duels_Won_1st\n",
      "rfc_Duels_Won_2nd\n",
      "rfc_Duels_Won\n",
      "rfc_Clearances_1st\n",
      "rfc_Clearances_2nd\n",
      "rfc_Clearances\n",
      "rfc_Interceptions_1st\n",
      "rfc_Interceptions_2nd\n",
      "rfc_Interceptions\n",
      "rfc_GK_Saves_1st\n",
      "rfc_GK_Saves_2nd\n",
      "rfc_GK_Saves\n",
      "rfc_xGOT_Faced_1st\n",
      "rfc_xGOT_Faced_2nd\n",
      "rfc_xGOT_Faced\n",
      "rfc_GK_Goals_Prevented_1st\n",
      "rfc_GK_Goals_Prevented_2nd\n",
      "rfc_GK_Goals_Prevented\n",
      "opp_xG_1st\n",
      "opp_xG_2nd\n",
      "opp_xG\n",
      "opp_Possession_1st\n",
      "opp_Possession_2nd\n",
      "opp_Possesion\n",
      "opp_Shots_1st\n",
      "opp_Shots_2nd\n",
      "opp_Shots\n",
      "opp_SOT_1st\n",
      "opp_SOT_2nd\n",
      "opp_SOT\n",
      "opp_BigChances_1st\n",
      "opp_BigChances_2nd\n",
      "opp_BigChances\n",
      "opp_Corners_1st\n",
      "opp_Corners_2nd\n",
      "opp_Corners\n",
      "opp_Passes_1st\n",
      "opp_Passes_2nd\n",
      "opp_Passes\n",
      "opp_Pass%_1st\n",
      "opp_Pass%_2nd\n",
      "opp_Pass%\n",
      "opp_Shots_Inside_Box_1st\n",
      "opp_Shots_Inside_Box_2nd\n",
      "opp_Shots_Inside_Box\n",
      "opp_Shots_Outside_Box_1st\n",
      "opp_Shots_Outside_Box_2nd\n",
      "opp_Shots_Outside_Box\n",
      "opp_Touches_In_Opp_Box_1st\n",
      "opp_Touches_In_Opp_Box_2nd\n",
      "opp_Touches_In_Opp_Box\n",
      "opp_Long_Passes_1st\n",
      "opp_Long_Passes_2nd\n",
      "opp_Long_Passes\n",
      "opp_LongPass%_1st\n",
      "opp_LongPass%_2nd\n",
      "opp_LongPass%\n",
      "opp_Passes_In_Final_Third_1st\n",
      "opp_Passes_In_Finals_Third_2nd\n",
      "opp_Passes_In_Final_Third\n",
      "opp_Pass_In_Final_Third%_1st\n",
      "opp_Pass_In_Final_Third%_2nd\n",
      "opp_Pass_In_Final_Third%\n",
      "opp_Crosses_1st\n",
      "opp_Crosses_2nd\n",
      "opp_Crosses\n",
      "opp_Cross%_1st\n",
      "opp_Cross%_2nd\n",
      "opp_Cross%\n",
      "opp_xA_1st\n",
      "opp_xA_2nd\n",
      "opp_xA\n",
      "opp_Fouls_1st\n",
      "opp_Fouls_2nd\n",
      "opp_Fouls\n",
      "opp_Tackles_1st\n",
      "opp_Tackles_2nd\n",
      "opp_Tackles\n",
      "opp_Tackle%_1st\n",
      "opp_Tackle%_2nd\n",
      "opp_Tackle%\n",
      "opp_Duels_Won_1st\n",
      "opp_Duels_Won_2nd\n",
      "opp_Duels_Won\n",
      "opp_Clearances_1st\n",
      "opp_Clearances_2nd\n",
      "opp_Clearances\n",
      "opp_Interceptions_1st\n",
      "opp_Interceptions_2nd\n",
      "opp_Interceptions\n",
      "opp_GK_Saves_1st\n",
      "opp_GK_Saves_2nd\n",
      "opp_GK_Saves\n",
      "opp_xGOT_Faced_1st\n",
      "opp_xGOT_Faced_2nd\n",
      "opp_xGOT_Faced\n",
      "opp_GK_Goals_Prevented_1st\n",
      "opp_GK_Goals_Prevented_2nd\n",
      "opp_GK_Goals_Prevented\n"
     ]
    }
   ],
   "source": [
    "for col in df.columns:\n",
    "    print(col)\n"
   ]
  },
  {
   "cell_type": "markdown",
   "id": "f4b8fdc5",
   "metadata": {},
   "source": [
    "# Comparing Reading vs Mansfield Top Stats"
   ]
  },
  {
   "cell_type": "markdown",
   "id": "d9dc6d10",
   "metadata": {},
   "source": [
    "Top Stats Include:\n",
    "\n",
    "- xG = Expected Goals to have been scored\n",
    "- Possession\n",
    "- Shots\n",
    "- Shots on Target\n",
    "- Big chances\n",
    "- Corners\n",
    "- Passes\n",
    "- Pass Accuaracy"
   ]
  },
  {
   "cell_type": "code",
   "execution_count": 3,
   "id": "c9001103",
   "metadata": {},
   "outputs": [
    {
     "data": {
      "image/png": "[encoded data removed]",
      "text/plain": [
       "<Figure size 1000x600 with 1 Axes>"
      ]
     },
     "metadata": {},
     "output_type": "display_data"
    }
   ],
   "source": [
    "top_stats = {\n",
    "    'xG': (match['rfc_xG_1st'] + match['rfc_xG_2nd'], match['opp_xG_1st'] + match['opp_xG_2nd']),\n",
    "    'Possession': (match['rfc_Possesion'], match['opp_Possesion']),\n",
    "    'Shots': (match['rfc_Shots'], match['opp_Shots']),\n",
    "    'Shots on Target': (match['rfc_SOT'], match['opp_SOT']),\n",
    "    'Big Chances': (match['rfc_BigChances'], match['opp_BigChances']),\n",
    "    'Corners': (match['rfc_Corners'], match['opp_Corners']),\n",
    "    'Passes': (match['rfc_Passes'], match['opp_Passes']),\n",
    "    'Pass Accuracy %': (match['rfc_Pass%'], match['opp_Pass%'])\n",
    "}\n",
    "\n",
    "# Convert to DataFrame\n",
    "basic_df = pd.DataFrame(top_stats, index=['Reading FC', 'Mansfield']).T\n",
    "\n",
    "fig, ax = plt.subplots(figsize=(10, 6))\n",
    "bar_width = 0.4\n",
    "y = range(len(basic_df))\n",
    "\n",
    "# Reading FC bars\n",
    "reading_bars = ax.barh(\n",
    "    [i - bar_width / 2 for i in y],\n",
    "    basic_df['Reading FC'],\n",
    "    height=bar_width,\n",
    "    label='Reading FC',\n",
    "    color='blue'\n",
    ")\n",
    "\n",
    "# Opponent bars\n",
    "opp_bars = ax.barh(\n",
    "    [i + bar_width / 2 for i in y],\n",
    "    basic_df['Mansfield'],\n",
    "    height=bar_width,\n",
    "    label='Mansfield',\n",
    "    color='red'\n",
    ")\n",
    "\n",
    "# Adding data labels\n",
    "for bar in reading_bars:\n",
    "    width = bar.get_width()\n",
    "    y_pos = bar.get_y() + bar.get_height() / 2\n",
    "    ax.text(width + 0.5, y_pos, f'{width:.2f}', va='center', ha='left', color='blue', fontsize=9)\n",
    "\n",
    "for bar in opp_bars:\n",
    "    width = bar.get_width()\n",
    "    y_pos = bar.get_y() + bar.get_height() / 2\n",
    "    ax.text(width + 0.5, y_pos, f'{width:.2f}', va='center', ha='left', color='red', fontsize=9)\n",
    "\n",
    "# Final formatting\n",
    "ax.set_yticks(y)\n",
    "ax.set_yticklabels(basic_df.index)\n",
    "ax.set_xlabel(\"Value\")\n",
    "ax.set_title(\"Top Match Stats: Reading vs Mansfield\")\n",
    "ax.legend()\n",
    "ax.grid(True)\n",
    "plt.tight_layout()\n",
    "plt.show()"
   ]
  },
  {
   "cell_type": "markdown",
   "id": "2fb504a0",
   "metadata": {},
   "source": [
    "# Reading FC Attack Analysis"
   ]
  },
  {
   "cell_type": "markdown",
   "id": "f602e198",
   "metadata": {},
   "source": [
    "- Looking at Attacking stats\n",
    "- Attacking efficiency\n",
    "- 1st Half vs 2nd Half Comparisons\n",
    "- Match Momentum into Attacking areas\n",
    "- Main Attacking Performance vs Huddersfield"
   ]
  },
  {
   "cell_type": "markdown",
   "id": "70fe7849",
   "metadata": {},
   "source": [
    "Attacking metrics:\n",
    "\n",
    "- xG = Expected Goals to have been scored\n",
    "- Shots\n",
    "- Shots on Target\n",
    "- Big Chances\n",
    "- Touches in the Opponents Box\n",
    "- Crosses\n",
    "- xA = Expected Assists"
   ]
  },
  {
   "cell_type": "code",
   "execution_count": 4,
   "id": "19ce5ebf",
   "metadata": {},
   "outputs": [
    {
     "name": "stdout",
     "output_type": "stream",
     "text": [
      "🔍 Attacking Efficiency Metrics (Reading vs Opponent):\n",
      "                                   Reading FC  Opponent  \\\n",
      "Shot Conversion Rate                    0.062     0.071   \n",
      "xG per Shot                             0.057     0.057   \n",
      "Shot Accuracy                           0.188     0.143   \n",
      "Big Chance Conversion                   1.000     0.500   \n",
      "Shots per Touch in Box                  1.231     0.609   \n",
      "xG Delta (Over/Under Performance)       0.080     0.200   \n",
      "xGOT (Faced by Opponent GK)             1.030     0.530   \n",
      "Opponent GK Goals Prevented             0.030    -0.470   \n",
      "Final Third Penetration                 0.230     0.225   \n",
      "Shots Inside Box %                      0.375     0.571   \n",
      "Shots Outside Box %                     0.625     0.429   \n",
      "\n",
      "                                   Diff (Reading - Opponent)  \n",
      "Shot Conversion Rate                                  -0.009  \n",
      "xG per Shot                                            0.000  \n",
      "Shot Accuracy                                          0.045  \n",
      "Big Chance Conversion                                  0.500  \n",
      "Shots per Touch in Box                                 0.622  \n",
      "xG Delta (Over/Under Performance)                     -0.120  \n",
      "xGOT (Faced by Opponent GK)                            0.500  \n",
      "Opponent GK Goals Prevented                            0.500  \n",
      "Final Third Penetration                                0.005  \n",
      "Shots Inside Box %                                    -0.196  \n",
      "Shots Outside Box %                                    0.196  \n"
     ]
    }
   ],
   "source": [
    "# --- Reading FC calculations ---\n",
    "goals = match['rfc_Score']\n",
    "shots = match['rfc_Shots']\n",
    "xg = match['rfc_xG_1st'] + match['rfc_xG_2nd']\n",
    "big_chances = match['rfc_BigChances']\n",
    "sot = match['rfc_SOT']\n",
    "touches_in_box = match['rfc_Touches_In_Opp_Box_1st'] + match['rfc_Touches_In_Opp_Box_2nd']\n",
    "\n",
    "# Opponent GK metrics (for Reading's attack)\n",
    "xgot = match['opp_xGOT_Faced_1st'] + match['opp_xGOT_Faced_2nd']\n",
    "gk_prevented = match['opp_GK_Goals_Prevented_1st'] + match['opp_GK_Goals_Prevented_2nd']\n",
    "\n",
    "# Final third penetration\n",
    "total_passes = match['rfc_Passes']\n",
    "final_third_passes = match['rfc_Passes_In_Final_Third']\n",
    "final_third_penetration = final_third_passes / total_passes if total_passes else 0\n",
    "\n",
    "# Shot location ratio\n",
    "inside_box_shots = match['rfc_Shots_Inside_Box']\n",
    "inside_box_ratio = inside_box_shots / shots if shots else 0\n",
    "outside_box_shots = match['rfc_Shots_Outside_Box']\n",
    "outside_box_ratio = outside_box_shots / shots if shots else 0\n",
    "\n",
    "# Efficiency dictionary (Reading)\n",
    "reading_eff = {\n",
    "    \"Shot Conversion Rate\": goals / shots if shots else 0,\n",
    "    \"xG per Shot\": xg / shots if shots else 0,\n",
    "    \"Shot Accuracy\": sot / shots if shots else 0,\n",
    "    \"Big Chance Conversion\": goals / big_chances if big_chances else 0,\n",
    "    \"Shots per Touch in Box\": shots / touches_in_box if touches_in_box else 0,\n",
    "    \"xG Delta (Over/Under Performance)\": goals - xg,\n",
    "    \"xGOT (Faced by Opponent GK)\": xgot,\n",
    "    \"Opponent GK Goals Prevented\": gk_prevented,\n",
    "    \"Final Third Penetration\": final_third_penetration,\n",
    "    \"Shots Inside Box %\": inside_box_ratio,\n",
    "    \"Shots Outside Box %\": outside_box_ratio\n",
    "}\n",
    "\n",
    "# --- Opponent attacking efficiency ---\n",
    "opp_goals = match['opp_Score']\n",
    "opp_shots = match['opp_Shots']\n",
    "opp_xg = match['opp_xG_1st'] + match['opp_xG_2nd']\n",
    "opp_big_chances = match['opp_BigChances']\n",
    "opp_sot = match['opp_SOT']\n",
    "opp_touches_in_box = match['opp_Touches_In_Opp_Box_1st'] + match['opp_Touches_In_Opp_Box_2nd']\n",
    "\n",
    "# Reading GK metrics (for opponent's attack)\n",
    "opp_xgot = match['rfc_xGOT_Faced_1st'] + match['rfc_xGOT_Faced_2nd']\n",
    "opp_gk_prevented = match['rfc_GK_Goals_Prevented_1st'] + match['rfc_GK_Goals_Prevented_2nd']\n",
    "\n",
    "# Opponent final third penetration\n",
    "opp_total_passes = match['opp_Passes']\n",
    "opp_final_third_passes = match['opp_Passes_In_Final_Third']\n",
    "opp_final_third_penetration = opp_final_third_passes / opp_total_passes if opp_total_passes else 0\n",
    "\n",
    "# Opponent shot location ratio\n",
    "opp_inside_box_shots = match['opp_Shots_Inside_Box']\n",
    "opp_inside_box_ratio = opp_inside_box_shots / opp_shots if opp_shots else 0\n",
    "opp_outside_box_shots = match['opp_Shots_Outside_Box']\n",
    "opp_outside_box_ratio = opp_outside_box_shots / opp_shots if opp_shots else 0\n",
    "\n",
    "opp_eff = {\n",
    "    \"Shot Conversion Rate\": opp_goals / opp_shots if opp_shots else 0,\n",
    "    \"xG per Shot\": opp_xg / opp_shots if opp_shots else 0,\n",
    "    \"Shot Accuracy\": opp_sot / opp_shots if opp_shots else 0,\n",
    "    \"Big Chance Conversion\": opp_goals / opp_big_chances if opp_big_chances else 0,\n",
    "    \"Shots per Touch in Box\": opp_shots / opp_touches_in_box if opp_touches_in_box else 0,\n",
    "    \"xG Delta (Over/Under Performance)\": opp_goals - opp_xg,\n",
    "    \"xGOT (Faced by Opponent GK)\": opp_xgot,\n",
    "    \"Opponent GK Goals Prevented\": opp_gk_prevented,\n",
    "    \"Final Third Penetration\": opp_final_third_penetration,\n",
    "    \"Shots Inside Box %\": opp_inside_box_ratio,\n",
    "    \"Shots Outside Box %\": opp_outside_box_ratio\n",
    "}\n",
    "\n",
    "# --- Combine + print ---\n",
    "opp_label = match.get('opp_name', 'Opponent')\n",
    "\n",
    "eff_df = pd.concat(\n",
    "    [pd.Series(reading_eff, name='Reading FC'),\n",
    "     pd.Series(opp_eff, name=opp_label)],\n",
    "    axis=1\n",
    ").round(3)\n",
    "\n",
    "# Difference column \n",
    "diff_col = (eff_df['Reading FC'] - eff_df[opp_label]).round(3)\n",
    "eff_df['Diff (Reading - ' + opp_label + ')'] = diff_col\n",
    "\n",
    "print(\"🔍 Attacking Efficiency Metrics (Reading vs \" + opp_label + \"):\")\n",
    "print(eff_df)\n"
   ]
  },
  {
   "cell_type": "code",
   "execution_count": 5,
   "id": "fd06602c",
   "metadata": {},
   "outputs": [
    {
     "name": "stdout",
     "output_type": "stream",
     "text": [
      "🔍 Attacking Efficiency (Selected Metrics)\n",
      "                         Reading FC  Opponent      Winner   By %\n",
      "Shot Conversion Rate          0.062     0.071    Opponent   14.3\n",
      "xG per Shot                   0.057     0.057  Reading FC    0.6\n",
      "Shot Accuracy                 0.188     0.143  Reading FC   31.3\n",
      "Shots per Touch in Box        1.231     0.609  Reading FC  102.2\n",
      "Final Third Penetration       0.230     0.225  Reading FC    2.2\n",
      "\n",
      "Overall efficiency (selected): Reading FC better by 15.1%.\n"
     ]
    }
   ],
   "source": [
    "import math\n",
    "import pandas as pd\n",
    "\n",
    "opp_label = match.get('opp_name', 'Opponent')\n",
    "\n",
    "eff_df_full = pd.concat(\n",
    "    [pd.Series(reading_eff, name='Reading FC'),\n",
    "     pd.Series(opp_eff, name=opp_label)],\n",
    "    axis=1\n",
    ").astype(float)\n",
    "\n",
    "metrics = [\n",
    "    \"Shot Conversion Rate\",\n",
    "    \"xG per Shot\",\n",
    "    \"Shot Accuracy\",\n",
    "    \"Shots per Touch in Box\",\n",
    "    \"Final Third Penetration\",\n",
    "]\n",
    "\n",
    "eff_df = eff_df_full.loc[metrics].copy()\n",
    "\n",
    "winners, by_pct = [], []\n",
    "for metric, row in eff_df.iterrows():\n",
    "    r_val, o_val = row['Reading FC'], row[opp_label]\n",
    "    if r_val == o_val:\n",
    "        winners.append(\"Even\")\n",
    "        by_pct.append(0.0)\n",
    "    elif r_val > o_val:\n",
    "        winners.append(\"Reading FC\")\n",
    "        pct = ((r_val - o_val) / o_val * 100) if o_val != 0 else math.inf\n",
    "        by_pct.append(pct)\n",
    "    else:\n",
    "        winners.append(opp_label)\n",
    "        pct = ((o_val - r_val) / r_val * 100) if r_val != 0 else math.inf\n",
    "        by_pct.append(pct)\n",
    "\n",
    "eff_df['Winner'] = winners\n",
    "eff_df['By %'] = [(\"∞\" if not math.isfinite(x) else round(x, 1)) for x in by_pct]\n",
    "\n",
    "eff_df = eff_df[['Reading FC', opp_label, 'Winner', 'By %']].round(3)\n",
    "\n",
    "# --- Overall efficiency using only these five metrics ---\n",
    "def norm_pair(r, o):\n",
    "    m = max(r, o)\n",
    "    if m <= 0:\n",
    "        return 0.0, 0.0\n",
    "    return r / m, o / m\n",
    "\n",
    "r_scores, o_scores = [], []\n",
    "for _, row in eff_df.iterrows():\n",
    "    r_n, o_n = norm_pair(row['Reading FC'], row[opp_label])\n",
    "    r_scores.append(r_n)\n",
    "    o_scores.append(o_n)\n",
    "\n",
    "r_overall = sum(r_scores) / len(r_scores) if r_scores else 0.0\n",
    "o_overall = sum(o_scores) / len(o_scores) if o_scores else 0.0\n",
    "\n",
    "if r_overall == o_overall:\n",
    "    overall_summary = \"Overall efficiency (selected metrics): Even.\"\n",
    "elif r_overall > o_overall:\n",
    "    pct_adv = ((r_overall - o_overall) / o_overall * 100) if o_overall > 0 else math.inf\n",
    "    overall_summary = f\"Overall efficiency (selected): Reading FC better by {'∞' if not math.isfinite(pct_adv) else f'{pct_adv:.1f}%'}.\"\n",
    "else:\n",
    "    pct_adv = ((o_overall - r_overall) / r_overall * 100) if r_overall > 0 else math.inf\n",
    "    overall_summary = f\"Overall efficiency (selected): {opp_label} better by {'∞' if not math.isfinite(pct_adv) else f'{pct_adv:.1f}%'}.\"\n",
    "\n",
    "# --- Print ---\n",
    "print(\"🔍 Attacking Efficiency (Selected Metrics)\")\n",
    "print(eff_df)\n",
    "print(\"\\n\" + overall_summary)\n"
   ]
  },
  {
   "cell_type": "markdown",
   "id": "65ea4e28",
   "metadata": {},
   "source": [
    "# 1st Half vs 2nd Half "
   ]
  },
  {
   "cell_type": "code",
   "execution_count": 6,
   "id": "fd6484b6",
   "metadata": {},
   "outputs": [
    {
     "data": {
      "image/png": "[encoded data removed]",
      "text/plain": [
       "<Figure size 1600x1000 with 9 Axes>"
      ]
     },
     "metadata": {},
     "output_type": "display_data"
    }
   ],
   "source": [
    "attacking_metrics = {\n",
    "    \"xG\": [match['rfc_xG_1st'], match['rfc_xG_2nd']],\n",
    "    \"Shots\": [match['rfc_Shots_1st'], match['rfc_Shots_2nd']],\n",
    "    \"Shots on Target\": [match['rfc_SOT_1st'], match['rfc_SOT_2nd']],\n",
    "    \"Big Chances\": [match['rfc_BigChances_1st'], match['rfc_BigChances_2nd']],\n",
    "    \"Touches in Opp Box\": [match['rfc_Touches_In_Opp_Box_1st'], match['rfc_Touches_In_Opp_Box_2nd']],\n",
    "    \"Crosses\": [match['rfc_Crosses_1st'], match['rfc_Crosses_2nd']],\n",
    "    \"xA\": [match['rfc_xA_1st'], match['rfc_xA_2nd']],\n",
    "}\n",
    "\n",
    "# Plotting setup:\n",
    "fig, axs = plt.subplots(3, 3, figsize=(16, 10))\n",
    "axs = axs.flatten()  # Flatten for easy indexing\n",
    "\n",
    "# Plot each metric\n",
    "for idx, (metric, values) in enumerate(attacking_metrics.items()):\n",
    "    axs[idx].bar(['1st Half', '2nd Half'], values, color='royalblue')\n",
    "    axs[idx].set_title(f\"{metric} by Half\")\n",
    "    axs[idx].set_ylabel(metric)\n",
    "    axs[idx].grid(True, linestyle='--', alpha=0.5)\n",
    "\n",
    "# Hide any unused subplots (in case of uneven grid)\n",
    "for j in range(len(attacking_metrics), len(axs)):\n",
    "    axs[j].axis('off')\n",
    "\n",
    "plt.suptitle(\"Reading FC Attacking Metrics by Half\", fontsize=16, weight='bold')\n",
    "plt.tight_layout(rect=[0, 0, 1, 0.96])\n",
    "plt.show()"
   ]
  },
  {
   "cell_type": "code",
   "execution_count": 7,
   "id": "245109a1",
   "metadata": {},
   "outputs": [
    {
     "name": "stderr",
     "output_type": "stream",
     "text": [
      "C:\\Users\\arbry\\AppData\\Local\\Temp\\ipykernel_7524\\132182341.py:38: UserWarning: Glyph 128202 (\\N{BAR CHART}) missing from current font.\n",
      "  plt.tight_layout()\n",
      "c:\\Users\\arbry\\anaconda3\\Lib\\site-packages\\IPython\\core\\pylabtools.py:152: UserWarning: Glyph 128202 (\\N{BAR CHART}) missing from current font.\n",
      "  fig.canvas.print_figure(bytes_io, **kw)\n"
     ]
    },
    {
     "data": {
      "image/png": "[encoded data removed]",
      "text/plain": [
       "<Figure size 1000x600 with 1 Axes>"
      ]
     },
     "metadata": {},
     "output_type": "display_data"
    }
   ],
   "source": [
    "# Reading attacking intent per half (normalized)\n",
    "rfc_attack_1st = (\n",
    "    match['rfc_Shots_1st'] +\n",
    "    match['rfc_Touches_In_Opp_Box_1st'] +\n",
    "    match['rfc_Passes_In_Final_Third_1st']\n",
    ")\n",
    "rfc_attack_2nd = (\n",
    "    match['rfc_Shots_2nd'] +\n",
    "    match['rfc_Touches_In_Opp_Box_2nd'] +\n",
    "    match['rfc_Passes_In_Final_Third_2nd']\n",
    ")\n",
    "\n",
    "opp_attack_1st = (\n",
    "    match['opp_Shots_1st'] +\n",
    "    match['opp_Touches_In_Opp_Box_1st'] +\n",
    "    match['opp_Passes_In_Final_Third_1st']\n",
    ")\n",
    "opp_attack_2nd = (\n",
    "    match['opp_Shots_2nd'] +\n",
    "    match['opp_Touches_In_Opp_Box_2nd'] +\n",
    "    match['opp_Passes_In_Finals_Third_2nd']\n",
    ")\n",
    "\n",
    "# Momentum score\n",
    "rfc_momentum = [rfc_attack_1st, rfc_attack_2nd]\n",
    "opp_momentum = [opp_attack_1st, opp_attack_2nd]\n",
    "\n",
    "# Plot\n",
    "plt.figure(figsize=(10, 6))\n",
    "plt.plot([0, 1], rfc_momentum, label='Reading FC', color='blue', marker='o')\n",
    "plt.plot([0, 1], opp_momentum, label='Mansfield', color='red', marker='o')\n",
    "\n",
    "plt.xticks([0, 1], ['1st Half', '2nd Half'])\n",
    "plt.title(\"📊 Match Momentum Curve (Composite Attacking Score)\")\n",
    "plt.ylabel(\"Momentum Score\")\n",
    "plt.grid(True)\n",
    "plt.legend()\n",
    "plt.tight_layout()\n",
    "plt.show()\n"
   ]
  },
  {
   "cell_type": "code",
   "execution_count": 8,
   "id": "f4c294bc",
   "metadata": {},
   "outputs": [
    {
     "name": "stdout",
     "output_type": "stream",
     "text": [
      "Final Third Penetration & Threat by Reading FC: 0.12\n"
     ]
    }
   ],
   "source": [
    "touches_per_f3_pass = match['rfc_Touches_In_Opp_Box'] / match['rfc_Passes_In_Final_Third'] if match['rfc_Passes_In_Final_Third'] else 0\n",
    "print(f\"Final Third Penetration & Threat by Reading FC: {touches_per_f3_pass:.2f}\")"
   ]
  },
  {
   "cell_type": "markdown",
   "id": "b41d68fa",
   "metadata": {},
   "source": [
    "# Match Attacking Performance Radar"
   ]
  },
  {
   "cell_type": "code",
   "execution_count": 9,
   "id": "dfb93f20",
   "metadata": {},
   "outputs": [
    {
     "data": {
      "application/vnd.plotly.v1+json": {
       "config": {
        "plotlyServerURL": "https://plot.ly"
       },
       "data": [
        {
         "fill": "toself",
         "line": {
          "color": "royalblue"
         },
         "name": "Reading FC",
         "r": [
          1,
          1,
          1,
          0.5,
          1,
          0.5652173913043478,
          1
         ],
         "theta": [
          "xG",
          "Shots",
          "Shots on Target",
          "Big Chances",
          "xA",
          "Touches in Opp Box",
          "xG"
         ],
         "type": "scatterpolar"
        },
        {
         "fill": "toself",
         "line": {
          "color": "red"
         },
         "name": "Stockport",
         "r": [
          0.8695652173913044,
          0.875,
          0.6666666666666666,
          1,
          0.9111111111111112,
          1,
          0.8695652173913044
         ],
         "theta": [
          "xG",
          "Shots",
          "Shots on Target",
          "Big Chances",
          "xA",
          "Touches in Opp Box",
          "xG"
         ],
         "type": "scatterpolar"
        }
       ],
       "layout": {
        "polar": {
         "radialaxis": {
          "range": [
           0,
           1
          ],
          "showticklabels": false,
          "visible": true
         }
        },
        "showlegend": true,
        "template": {
         "data": {
          "bar": [
           {
            "error_x": {
             "color": "#2a3f5f"
            },
            "error_y": {
             "color": "#2a3f5f"
            },
            "marker": {
             "line": {
              "color": "#E5ECF6",
              "width": 0.5
             },
             "pattern": {
              "fillmode": "overlay",
              "size": 10,
              "solidity": 0.2
             }
            },
            "type": "bar"
           }
          ],
          "barpolar": [
           {
            "marker": {
             "line": {
              "color": "#E5ECF6",
              "width": 0.5
             },
             "pattern": {
              "fillmode": "overlay",
              "size": 10,
              "solidity": 0.2
             }
            },
            "type": "barpolar"
           }
          ],
          "carpet": [
           {
            "aaxis": {
             "endlinecolor": "#2a3f5f",
             "gridcolor": "white",
             "linecolor": "white",
             "minorgridcolor": "white",
             "startlinecolor": "#2a3f5f"
            },
            "baxis": {
             "endlinecolor": "#2a3f5f",
             "gridcolor": "white",
             "linecolor": "white",
             "minorgridcolor": "white",
             "startlinecolor": "#2a3f5f"
            },
            "type": "carpet"
           }
          ],
          "choropleth": [
           {
            "colorbar": {
             "outlinewidth": 0,
             "ticks": ""
            },
            "type": "choropleth"
           }
          ],
          "contour": [
           {
            "colorbar": {
             "outlinewidth": 0,
             "ticks": ""
            },
            "colorscale": [
             [
              0,
              "#0d0887"
             ],
             [
              0.1111111111111111,
              "#46039f"
             ],
             [
              0.2222222222222222,
              "#7201a8"
             ],
             [
              0.3333333333333333,
              "#9c179e"
             ],
             [
              0.4444444444444444,
              "#bd3786"
             ],
             [
              0.5555555555555556,
              "#d8576b"
             ],
             [
              0.6666666666666666,
              "#ed7953"
             ],
             [
              0.7777777777777778,
              "#fb9f3a"
             ],
             [
              0.8888888888888888,
              "#fdca26"
             ],
             [
              1,
              "#f0f921"
             ]
            ],
            "type": "contour"
           }
          ],
          "contourcarpet": [
           {
            "colorbar": {
             "outlinewidth": 0,
             "ticks": ""
            },
            "type": "contourcarpet"
           }
          ],
          "heatmap": [
           {
            "colorbar": {
             "outlinewidth": 0,
             "ticks": ""
            },
            "colorscale": [
             [
              0,
              "#0d0887"
             ],
             [
              0.1111111111111111,
              "#46039f"
             ],
             [
              0.2222222222222222,
              "#7201a8"
             ],
             [
              0.3333333333333333,
              "#9c179e"
             ],
             [
              0.4444444444444444,
              "#bd3786"
             ],
             [
              0.5555555555555556,
              "#d8576b"
             ],
             [
              0.6666666666666666,
              "#ed7953"
             ],
             [
              0.7777777777777778,
              "#fb9f3a"
             ],
             [
              0.8888888888888888,
              "#fdca26"
             ],
             [
              1,
              "#f0f921"
             ]
            ],
            "type": "heatmap"
           }
          ],
          "heatmapgl": [
           {
            "colorbar": {
             "outlinewidth": 0,
             "ticks": ""
            },
            "colorscale": [
             [
              0,
              "#0d0887"
             ],
             [
              0.1111111111111111,
              "#46039f"
             ],
             [
              0.2222222222222222,
              "#7201a8"
             ],
             [
              0.3333333333333333,
              "#9c179e"
             ],
             [
              0.4444444444444444,
              "#bd3786"
             ],
             [
              0.5555555555555556,
              "#d8576b"
             ],
             [
              0.6666666666666666,
              "#ed7953"
             ],
             [
              0.7777777777777778,
              "#fb9f3a"
             ],
             [
              0.8888888888888888,
              "#fdca26"
             ],
             [
              1,
              "#f0f921"
             ]
            ],
            "type": "heatmapgl"
           }
          ],
          "histogram": [
           {
            "marker": {
             "pattern": {
              "fillmode": "overlay",
              "size": 10,
              "solidity": 0.2
             }
            },
            "type": "histogram"
           }
          ],
          "histogram2d": [
           {
            "colorbar": {
             "outlinewidth": 0,
             "ticks": ""
            },
            "colorscale": [
             [
              0,
              "#0d0887"
             ],
             [
              0.1111111111111111,
              "#46039f"
             ],
             [
              0.2222222222222222,
              "#7201a8"
             ],
             [
              0.3333333333333333,
              "#9c179e"
             ],
             [
              0.4444444444444444,
              "#bd3786"
             ],
             [
              0.5555555555555556,
              "#d8576b"
             ],
             [
              0.6666666666666666,
              "#ed7953"
             ],
             [
              0.7777777777777778,
              "#fb9f3a"
             ],
             [
              0.8888888888888888,
              "#fdca26"
             ],
             [
              1,
              "#f0f921"
             ]
            ],
            "type": "histogram2d"
           }
          ],
          "histogram2dcontour": [
           {
            "colorbar": {
             "outlinewidth": 0,
             "ticks": ""
            },
            "colorscale": [
             [
              0,
              "#0d0887"
             ],
             [
              0.1111111111111111,
              "#46039f"
             ],
             [
              0.2222222222222222,
              "#7201a8"
             ],
             [
              0.3333333333333333,
              "#9c179e"
             ],
             [
              0.4444444444444444,
              "#bd3786"
             ],
             [
              0.5555555555555556,
              "#d8576b"
             ],
             [
              0.6666666666666666,
              "#ed7953"
             ],
             [
              0.7777777777777778,
              "#fb9f3a"
             ],
             [
              0.8888888888888888,
              "#fdca26"
             ],
             [
              1,
              "#f0f921"
             ]
            ],
            "type": "histogram2dcontour"
           }
          ],
          "mesh3d": [
           {
            "colorbar": {
             "outlinewidth": 0,
             "ticks": ""
            },
            "type": "mesh3d"
           }
          ],
          "parcoords": [
           {
            "line": {
             "colorbar": {
              "outlinewidth": 0,
              "ticks": ""
             }
            },
            "type": "parcoords"
           }
          ],
          "pie": [
           {
            "automargin": true,
            "type": "pie"
           }
          ],
          "scatter": [
           {
            "fillpattern": {
             "fillmode": "overlay",
             "size": 10,
             "solidity": 0.2
            },
            "type": "scatter"
           }
          ],
          "scatter3d": [
           {
            "line": {
             "colorbar": {
              "outlinewidth": 0,
              "ticks": ""
             }
            },
            "marker": {
             "colorbar": {
              "outlinewidth": 0,
              "ticks": ""
             }
            },
            "type": "scatter3d"
           }
          ],
          "scattercarpet": [
           {
            "marker": {
             "colorbar": {
              "outlinewidth": 0,
              "ticks": ""
             }
            },
            "type": "scattercarpet"
           }
          ],
          "scattergeo": [
           {
            "marker": {
             "colorbar": {
              "outlinewidth": 0,
              "ticks": ""
             }
            },
            "type": "scattergeo"
           }
          ],
          "scattergl": [
           {
            "marker": {
             "colorbar": {
              "outlinewidth": 0,
              "ticks": ""
             }
            },
            "type": "scattergl"
           }
          ],
          "scattermapbox": [
           {
            "marker": {
             "colorbar": {
              "outlinewidth": 0,
              "ticks": ""
             }
            },
            "type": "scattermapbox"
           }
          ],
          "scatterpolar": [
           {
            "marker": {
             "colorbar": {
              "outlinewidth": 0,
              "ticks": ""
             }
            },
            "type": "scatterpolar"
           }
          ],
          "scatterpolargl": [
           {
            "marker": {
             "colorbar": {
              "outlinewidth": 0,
              "ticks": ""
             }
            },
            "type": "scatterpolargl"
           }
          ],
          "scatterternary": [
           {
            "marker": {
             "colorbar": {
              "outlinewidth": 0,
              "ticks": ""
             }
            },
            "type": "scatterternary"
           }
          ],
          "surface": [
           {
            "colorbar": {
             "outlinewidth": 0,
             "ticks": ""
            },
            "colorscale": [
             [
              0,
              "#0d0887"
             ],
             [
              0.1111111111111111,
              "#46039f"
             ],
             [
              0.2222222222222222,
              "#7201a8"
             ],
             [
              0.3333333333333333,
              "#9c179e"
             ],
             [
              0.4444444444444444,
              "#bd3786"
             ],
             [
              0.5555555555555556,
              "#d8576b"
             ],
             [
              0.6666666666666666,
              "#ed7953"
             ],
             [
              0.7777777777777778,
              "#fb9f3a"
             ],
             [
              0.8888888888888888,
              "#fdca26"
             ],
             [
              1,
              "#f0f921"
             ]
            ],
            "type": "surface"
           }
          ],
          "table": [
           {
            "cells": {
             "fill": {
              "color": "#EBF0F8"
             },
             "line": {
              "color": "white"
             }
            },
            "header": {
             "fill": {
              "color": "#C8D4E3"
             },
             "line": {
              "color": "white"
             }
            },
            "type": "table"
           }
          ]
         },
         "layout": {
          "annotationdefaults": {
           "arrowcolor": "#2a3f5f",
           "arrowhead": 0,
           "arrowwidth": 1
          },
          "autotypenumbers": "strict",
          "coloraxis": {
           "colorbar": {
            "outlinewidth": 0,
            "ticks": ""
           }
          },
          "colorscale": {
           "diverging": [
            [
             0,
             "#8e0152"
            ],
            [
             0.1,
             "#c51b7d"
            ],
            [
             0.2,
             "#de77ae"
            ],
            [
             0.3,
             "#f1b6da"
            ],
            [
             0.4,
             "#fde0ef"
            ],
            [
             0.5,
             "#f7f7f7"
            ],
            [
             0.6,
             "#e6f5d0"
            ],
            [
             0.7,
             "#b8e186"
            ],
            [
             0.8,
             "#7fbc41"
            ],
            [
             0.9,
             "#4d9221"
            ],
            [
             1,
             "#276419"
            ]
           ],
           "sequential": [
            [
             0,
             "#0d0887"
            ],
            [
             0.1111111111111111,
             "#46039f"
            ],
            [
             0.2222222222222222,
             "#7201a8"
            ],
            [
             0.3333333333333333,
             "#9c179e"
            ],
            [
             0.4444444444444444,
             "#bd3786"
            ],
            [
             0.5555555555555556,
             "#d8576b"
            ],
            [
             0.6666666666666666,
             "#ed7953"
            ],
            [
             0.7777777777777778,
             "#fb9f3a"
            ],
            [
             0.8888888888888888,
             "#fdca26"
            ],
            [
             1,
             "#f0f921"
            ]
           ],
           "sequentialminus": [
            [
             0,
             "#0d0887"
            ],
            [
             0.1111111111111111,
             "#46039f"
            ],
            [
             0.2222222222222222,
             "#7201a8"
            ],
            [
             0.3333333333333333,
             "#9c179e"
            ],
            [
             0.4444444444444444,
             "#bd3786"
            ],
            [
             0.5555555555555556,
             "#d8576b"
            ],
            [
             0.6666666666666666,
             "#ed7953"
            ],
            [
             0.7777777777777778,
             "#fb9f3a"
            ],
            [
             0.8888888888888888,
             "#fdca26"
            ],
            [
             1,
             "#f0f921"
            ]
           ]
          },
          "colorway": [
           "#636efa",
           "#EF553B",
           "#00cc96",
           "#ab63fa",
           "#FFA15A",
           "#19d3f3",
           "#FF6692",
           "#B6E880",
           "#FF97FF",
           "#FECB52"
          ],
          "font": {
           "color": "#2a3f5f"
          },
          "geo": {
           "bgcolor": "white",
           "lakecolor": "white",
           "landcolor": "#E5ECF6",
           "showlakes": true,
           "showland": true,
           "subunitcolor": "white"
          },
          "hoverlabel": {
           "align": "left"
          },
          "hovermode": "closest",
          "mapbox": {
           "style": "light"
          },
          "paper_bgcolor": "white",
          "plot_bgcolor": "#E5ECF6",
          "polar": {
           "angularaxis": {
            "gridcolor": "white",
            "linecolor": "white",
            "ticks": ""
           },
           "bgcolor": "#E5ECF6",
           "radialaxis": {
            "gridcolor": "white",
            "linecolor": "white",
            "ticks": ""
           }
          },
          "scene": {
           "xaxis": {
            "backgroundcolor": "#E5ECF6",
            "gridcolor": "white",
            "gridwidth": 2,
            "linecolor": "white",
            "showbackground": true,
            "ticks": "",
            "zerolinecolor": "white"
           },
           "yaxis": {
            "backgroundcolor": "#E5ECF6",
            "gridcolor": "white",
            "gridwidth": 2,
            "linecolor": "white",
            "showbackground": true,
            "ticks": "",
            "zerolinecolor": "white"
           },
           "zaxis": {
            "backgroundcolor": "#E5ECF6",
            "gridcolor": "white",
            "gridwidth": 2,
            "linecolor": "white",
            "showbackground": true,
            "ticks": "",
            "zerolinecolor": "white"
           }
          },
          "shapedefaults": {
           "line": {
            "color": "#2a3f5f"
           }
          },
          "ternary": {
           "aaxis": {
            "gridcolor": "white",
            "linecolor": "white",
            "ticks": ""
           },
           "baxis": {
            "gridcolor": "white",
            "linecolor": "white",
            "ticks": ""
           },
           "bgcolor": "#E5ECF6",
           "caxis": {
            "gridcolor": "white",
            "linecolor": "white",
            "ticks": ""
           }
          },
          "title": {
           "x": 0.05
          },
          "xaxis": {
           "automargin": true,
           "gridcolor": "white",
           "linecolor": "white",
           "ticks": "",
           "title": {
            "standoff": 15
           },
           "zerolinecolor": "white",
           "zerolinewidth": 2
          },
          "yaxis": {
           "automargin": true,
           "gridcolor": "white",
           "linecolor": "white",
           "ticks": "",
           "title": {
            "standoff": 15
           },
           "zerolinecolor": "white",
           "zerolinewidth": 2
          }
         }
        },
        "title": {
         "text": "Attacking Performance Radar: Reading FC vs Mansfield"
        }
       }
      }
     },
     "metadata": {},
     "output_type": "display_data"
    }
   ],
   "source": [
    "import plotly.graph_objects as go\n",
    "\n",
    "# Define attacking categories\n",
    "attack_categories = ['xG', 'Shots', 'Shots on Target', 'Big Chances', 'xA', 'Touches in Opp Box']\n",
    "\n",
    "# Raw values\n",
    "reading_attack_vals = [\n",
    "    match['rfc_xG_1st'] + match['rfc_xG_2nd'],\n",
    "    match['rfc_Shots'],\n",
    "    match['rfc_SOT'],\n",
    "    match['rfc_BigChances'],\n",
    "    match['rfc_xA_1st'] + match['rfc_xA_2nd'],\n",
    "    match['rfc_Touches_In_Opp_Box_1st'] + match['rfc_Touches_In_Opp_Box_2nd'],\n",
    "]\n",
    "\n",
    "opp_attack_vals = [\n",
    "    match['opp_xG_1st'] + match['opp_xG_2nd'],\n",
    "    match['opp_Shots'],\n",
    "    match['opp_SOT'],\n",
    "    match['opp_BigChances'],\n",
    "    match['opp_xA_1st'] + match['opp_xA_2nd'],\n",
    "    match['opp_Touches_In_Opp_Box_1st'] + match['opp_Touches_In_Opp_Box_2nd'],\n",
    "]\n",
    "\n",
    "# Normalize (so each stat is 0–1 range)\n",
    "max_vals = [max(r, o) if max(r, o) > 0 else 1 for r, o in zip(reading_attack_vals, opp_attack_vals)]\n",
    "reading_norm = [r / m for r, m in zip(reading_attack_vals, max_vals)]\n",
    "opp_norm = [o / m for o, m in zip(opp_attack_vals, max_vals)]\n",
    "\n",
    "# Create radar chart\n",
    "fig = go.Figure()\n",
    "\n",
    "fig.add_trace(go.Scatterpolar(\n",
    "    r=reading_norm + [reading_norm[0]],\n",
    "    theta=attack_categories + [attack_categories[0]],\n",
    "    fill='toself',\n",
    "    name='Reading FC',\n",
    "    line=dict(color='royalblue')\n",
    "))\n",
    "\n",
    "fig.add_trace(go.Scatterpolar(\n",
    "    r=opp_norm + [opp_norm[0]],\n",
    "    theta=attack_categories + [attack_categories[0]],\n",
    "    fill='toself',\n",
    "    name='Stockport',\n",
    "    line=dict(color='red')\n",
    "))\n",
    "\n",
    "# Layout tweaks\n",
    "fig.update_layout(\n",
    "    polar=dict(\n",
    "        radialaxis=dict(visible=True, range=[0, 1], showticklabels=False)\n",
    "    ),\n",
    "    title=\"Attacking Performance Radar: Reading FC vs Mansfield\",\n",
    "    showlegend=True\n",
    ")\n",
    "\n",
    "fig.show()\n"
   ]
  },
  {
   "cell_type": "code",
   "execution_count": 10,
   "id": "4dfa348a",
   "metadata": {},
   "outputs": [
    {
     "name": "stdout",
     "output_type": "stream",
     "text": [
      "Mansfield had the higher overall attacking output by 5.1% (vs Reading FC).\n",
      "\n",
      "Per-category differences:\n",
      "          Category     Winner   By %  Reading  Mansfield\n",
      "                xG Reading FC  15.0%     0.92       0.80\n",
      "             Shots Reading FC  14.3%    16.00      14.00\n",
      "   Shots on Target Reading FC  50.0%     3.00       2.00\n",
      "       Big Chances  Mansfield 100.0%     1.00       2.00\n",
      "                xA Reading FC   9.8%     0.90       0.82\n",
      "Touches in Opp Box  Mansfield  76.9%    13.00      23.00\n"
     ]
    }
   ],
   "source": [
    "from math import isfinite\n",
    "\n",
    "# --- Overall attacking output ---\n",
    "reading_score = sum(reading_norm) / len(reading_norm)\n",
    "opp_score     = sum(opp_norm) / len(opp_norm)\n",
    "\n",
    "if opp_score == 0 and reading_score == 0:\n",
    "    overall_msg = \"Both teams had identical overall attacking output (all zeros after normalization).\"\n",
    "else:\n",
    "    # Compare and express percent advantage relative to the lower score\n",
    "    if reading_score >= opp_score:\n",
    "        leader = \"Reading FC\"\n",
    "        lagger = \"Mansfield\"\n",
    "        pct = ((reading_score - opp_score) / opp_score * 100) if opp_score > 0 else float('inf')\n",
    "    else:\n",
    "        leader = \"Mansfield\"\n",
    "        lagger = \"Reading FC\"\n",
    "        pct = ((opp_score - reading_score) / reading_score * 100) if reading_score > 0 else float('inf')\n",
    "\n",
    "    if isfinite(pct):\n",
    "        overall_msg = f\"{leader} had the higher overall attacking output by {pct:.1f}% (vs {lagger}).\"\n",
    "    else:\n",
    "        overall_msg = f\"{leader} had higher overall attacking output; percent advantage is undefined because {lagger}'s score was 0.\"\n",
    "\n",
    "print(overall_msg)\n",
    "\n",
    "def pct_diff(a, b):\n",
    "    \"\"\"Percent advantage of a over b, relative to b.\"\"\"\n",
    "    if b == 0:\n",
    "        if a == 0:\n",
    "            return 0.0, \"even (both 0)\"\n",
    "        else:\n",
    "            return float('inf'), \"∞ (opponent had 0)\"\n",
    "    return ((a - b) / b) * 100.0, None\n",
    "\n",
    "rows = []\n",
    "for cat, r_raw, o_raw in zip(attack_categories, reading_attack_vals, opp_attack_vals):\n",
    "    if r_raw >= o_raw:\n",
    "        winner, loser = \"Reading FC\", \"Mansfield\"\n",
    "        pct, note = pct_diff(r_raw, o_raw)\n",
    "    else:\n",
    "        winner, loser = \"Mansfield\", \"Reading FC\"\n",
    "        pct, note = pct_diff(o_raw, r_raw)\n",
    "\n",
    "    pct_str = f\"{pct:.1f}%\" if isfinite(pct) else note or \"∞\"\n",
    "    rows.append({\n",
    "        \"Category\": cat,\n",
    "        \"Winner\": winner,\n",
    "        \"By %\": pct_str,\n",
    "        \"Reading\": r_raw,\n",
    "        \"Mansfield\": o_raw\n",
    "    })\n",
    "\n",
    "try:\n",
    "    import pandas as pd\n",
    "    df = pd.DataFrame(rows)\n",
    "    print(\"\\nPer-category differences:\")\n",
    "    print(df.to_string(index=False))\n",
    "except Exception:\n",
    "    print(\"\\nPer-category differences:\")\n",
    "    for row in rows:\n",
    "        print(f\"{row['Category']}: {row['Winner']} by {row['By %']} \"\n",
    "              f\"(Reading {row['Reading']} vs Mansfield {row['Mansfield']})\")\n"
   ]
  },
  {
   "cell_type": "markdown",
   "id": "9741fb47",
   "metadata": {},
   "source": [
    "# Reading FC Game Control Analysis"
   ]
  },
  {
   "cell_type": "markdown",
   "id": "4db483cd",
   "metadata": {},
   "source": [
    "- Looking at 1st Half vs 2nd Half comparison for match control\n",
    "- Match momentum and Dominance\n",
    "- Overall Game Control Performance"
   ]
  },
  {
   "cell_type": "markdown",
   "id": "ab65d570",
   "metadata": {},
   "source": [
    "Game control metrics include:\n",
    "\n",
    "- Possession\n",
    "- Passes and Accuracy\n",
    "- Long Passes and Accuracy\n",
    "- Passes in Final Third and Accuracy"
   ]
  },
  {
   "cell_type": "markdown",
   "id": "75e0899f",
   "metadata": {},
   "source": [
    "# 1st Half vs 2nd Half "
   ]
  },
  {
   "cell_type": "code",
   "execution_count": 11,
   "id": "37715ea2",
   "metadata": {},
   "outputs": [
    {
     "data": {
      "image/png": "[encoded data removed]",
      "text/plain": [
       "<Figure size 1600x1000 with 9 Axes>"
      ]
     },
     "metadata": {},
     "output_type": "display_data"
    }
   ],
   "source": [
    "control_metrics = {\n",
    "    \"Possession\": [match['rfc_Possession_1st'], match['rfc_Possession_2nd']],\n",
    "    \"Passes\": [match['rfc_Passes_1st'], match['rfc_Passes_2nd']],\n",
    "    \"Pass %\": [match['rfc_Pass%_1st'], match['rfc_Pass%_2nd']],\n",
    "    \"Long Passes\": [match['rfc_Long_Passes_1st'], match['rfc_Long_Passes_2nd']],\n",
    "    \"Long Pass Accuracy %\": [match['rfc_LongPass%_1st'], match['rfc_LongPass%_2nd']],\n",
    "    \"Passes in Final Third\": [match['rfc_Passes_In_Final_Third_1st'], match['rfc_Passes_In_Final_Third_2nd']],\n",
    "    \"Passes in Final Third Accuracy %\": [match['rfc_Pass_In_Final_Third%_1st'], match['rfc_Pass_In_Final_Third%_2nd']]\n",
    "}\n",
    "\n",
    "# Plotting setup:\n",
    "fig, axs = plt.subplots(3, 3, figsize=(16, 10))\n",
    "axs = axs.flatten()  # Flatten for easy indexing\n",
    "\n",
    "# Plot each metric\n",
    "for idx, (metric, values) in enumerate(control_metrics.items()):\n",
    "    axs[idx].bar(['1st Half', '2nd Half'], values, color='royalblue')\n",
    "    axs[idx].set_title(f\"{metric} by Half\")\n",
    "    axs[idx].set_ylabel(metric)\n",
    "    axs[idx].grid(True, linestyle='--', alpha=0.5)\n",
    "\n",
    "# Hide any unused subplots (in case of uneven grid)\n",
    "for j in range(len(control_metrics), len(axs)):\n",
    "    axs[j].axis('off')\n",
    "\n",
    "plt.suptitle(\"Reading FC Match Control Metrics by Half\", fontsize=16, weight='bold')\n",
    "plt.tight_layout(rect=[0, 0, 1, 0.96])\n",
    "plt.show()"
   ]
  },
  {
   "cell_type": "code",
   "execution_count": 12,
   "id": "724d335c",
   "metadata": {},
   "outputs": [
    {
     "name": "stdout",
     "output_type": "stream",
     "text": [
      "Verticality Ratio (Long Pass% / Pass%): 0.407\n"
     ]
    }
   ],
   "source": [
    "verticality = match['rfc_LongPass%'] / match['rfc_Pass%'] if match['rfc_Pass%'] else 0\n",
    "print(\"Verticality Ratio (Long Pass% / Pass%):\", round(verticality, 3))\n"
   ]
  },
  {
   "cell_type": "code",
   "execution_count": 13,
   "id": "034c1286",
   "metadata": {},
   "outputs": [
    {
     "name": "stderr",
     "output_type": "stream",
     "text": [
      "C:\\Users\\arbry\\AppData\\Local\\Temp\\ipykernel_7524\\84486305.py:22: UserWarning:\n",
      "\n",
      "Glyph 128200 (\\N{CHART WITH UPWARDS TREND}) missing from current font.\n",
      "\n",
      "c:\\Users\\arbry\\anaconda3\\Lib\\site-packages\\IPython\\core\\pylabtools.py:152: UserWarning:\n",
      "\n",
      "Glyph 128200 (\\N{CHART WITH UPWARDS TREND}) missing from current font.\n",
      "\n"
     ]
    },
    {
     "data": {
      "image/png": "[encoded data removed]",
      "text/plain": [
       "<Figure size 1000x600 with 1 Axes>"
      ]
     },
     "metadata": {},
     "output_type": "display_data"
    }
   ],
   "source": [
    "import matplotlib.pyplot as plt\n",
    "\n",
    "# Get xG by half\n",
    "rfc_xg = [match['rfc_xG_1st'], match['rfc_xG_2nd']]\n",
    "opp_xg = [match['opp_xG_1st'], match['opp_xG_2nd']]\n",
    "\n",
    "# Cumulative xG over halves\n",
    "rfc_cumulative = [rfc_xg[0], rfc_xg[0] + rfc_xg[1]]\n",
    "opp_cumulative = [opp_xg[0], opp_xg[0] + opp_xg[1]]\n",
    "\n",
    "# Plotting\n",
    "plt.figure(figsize=(10, 6))\n",
    "plt.plot([0, 1], rfc_cumulative, label='Reading FC', color='blue', marker='o')\n",
    "plt.plot([0, 1], opp_cumulative, label='Mansfield', color='red', marker='o')\n",
    "\n",
    "# Styling\n",
    "plt.xticks([0, 1], ['1st Half', '2nd Half'])\n",
    "plt.title(\"📈 Match Momentum Curve (Cumulative xG)\")\n",
    "plt.ylabel(\"Cumulative xG\")\n",
    "plt.grid(True)\n",
    "plt.legend()\n",
    "plt.tight_layout()\n",
    "plt.show()\n"
   ]
  },
  {
   "cell_type": "code",
   "execution_count": 14,
   "id": "d079dd6a",
   "metadata": {},
   "outputs": [
    {
     "name": "stdout",
     "output_type": "stream",
     "text": [
      "Match Dominance Index (0 to 1): 0.58\n",
      "1st Half Dominance Index (0 to 1): 0.56\n",
      "2nd Half Dominance Index (0 to 1): 0.63\n"
     ]
    }
   ],
   "source": [
    "# Custom \"dominance\" index (normalize components first)\n",
    "def normalize(val, max_val): \n",
    "    return val / max_val if max_val else 0\n",
    "\n",
    "# ---- Overall match dominance ----\n",
    "dominance_index = (\n",
    "    0.4 * normalize(xg, xg + match['opp_xG_1st'] + match['opp_xG_2nd']) +\n",
    "    0.2 * normalize(match['rfc_Possesion'], 100) +\n",
    "    0.2 * normalize(match['rfc_SOT'], match['rfc_SOT'] + match['opp_SOT']) +\n",
    "    0.2 * normalize(match['rfc_Passes'], match['rfc_Passes'] + match['opp_Passes'])\n",
    ")\n",
    "\n",
    "# ---- 1st Half dominance ----\n",
    "dominance_index_1st = (\n",
    "    0.4 * normalize(match['rfc_xG_1st'], match['rfc_xG_1st'] + match['opp_xG_1st']) +\n",
    "    0.2 * normalize(match['rfc_Possession_1st'], 100) +\n",
    "    0.2 * normalize(match['rfc_SOT_1st'], match['rfc_SOT_1st'] + match['opp_SOT_1st']) +\n",
    "    0.2 * normalize(match['rfc_Passes_1st'], match['rfc_Passes_1st'] + match['opp_Passes_1st'])\n",
    ")\n",
    "\n",
    "# ---- 2nd Half dominance ----\n",
    "dominance_index_2nd = (\n",
    "    0.4 * normalize(match['rfc_xG_2nd'], match['rfc_xG_2nd'] + match['opp_xG_2nd']) +\n",
    "    0.2 * normalize(match['rfc_Possession_2nd'], 100) +\n",
    "    0.2 * normalize(match['rfc_SOT_2nd'], match['rfc_SOT_2nd'] + match['opp_SOT_2nd']) +\n",
    "    0.2 * normalize(match['rfc_Passes_2nd'], match['rfc_Passes_2nd'] + match['opp_Passes_2nd'])\n",
    ")\n",
    "\n",
    "# ---- Print results ----\n",
    "print(f\"Match Dominance Index (0 to 1): {dominance_index:.2f}\")\n",
    "print(f\"1st Half Dominance Index (0 to 1): {dominance_index_1st:.2f}\")\n",
    "print(f\"2nd Half Dominance Index (0 to 1): {dominance_index_2nd:.2f}\")\n"
   ]
  },
  {
   "cell_type": "code",
   "execution_count": 15,
   "id": "3465cc24",
   "metadata": {},
   "outputs": [
    {
     "name": "stdout",
     "output_type": "stream",
     "text": [
      "Team Pressing by Reading FC: 49.80, Team Pressing 1st Half: 34.50, Team Pressing 2nd Half: 111.00\n"
     ]
    }
   ],
   "source": [
    "ppda = match['opp_Passes'] / match['rfc_Tackles'] if match['rfc_Tackles'] else 0\n",
    "ppda_1st = match['opp_Passes_1st'] / match['rfc_Tackles_1st'] if match['rfc_Tackles_1st'] else 0\n",
    "ppda_2nd = match['opp_Passes_2nd'] / match['rfc_Tackles_2nd'] if match['rfc_Tackles_2nd'] else 0\n",
    "print(f\"Team Pressing by Reading FC: {ppda:.2f}, Team Pressing 1st Half: {ppda_1st:.2f}, Team Pressing 2nd Half: {ppda_2nd:.2f}\")"
   ]
  },
  {
   "cell_type": "code",
   "execution_count": 16,
   "id": "1f5337de",
   "metadata": {},
   "outputs": [
    {
     "data": {
      "application/vnd.plotly.v1+json": {
       "config": {
        "plotlyServerURL": "https://plot.ly"
       },
       "data": [
        {
         "hovertemplate": "Mansfield share: %{x}%<extra></extra>",
         "insidetextanchor": "middle",
         "marker": {
          "color": "crimson"
         },
         "name": "Mansfield",
         "orientation": "h",
         "text": [
          "35%",
          "24%",
          "49%"
         ],
         "textposition": "inside",
         "type": "bar",
         "x": [
          -34.78260869565217,
          -23.913043478260864,
          -49.27536231884058
         ],
         "y": [
          "Overall",
          "1st Half",
          "2nd Half"
         ]
        },
        {
         "hovertemplate": "Reading share: %{x}%<extra></extra>",
         "insidetextanchor": "middle",
         "marker": {
          "color": "royalblue"
         },
         "name": "Reading FC",
         "orientation": "h",
         "text": [
          "65%",
          "76%",
          "51%"
         ],
         "textposition": "inside",
         "type": "bar",
         "x": [
          65.21739130434783,
          76.08695652173914,
          50.72463768115942
         ],
         "y": [
          "Overall",
          "1st Half",
          "2nd Half"
         ]
        }
       ],
       "layout": {
        "bargap": 0.2,
        "barmode": "relative",
        "height": 400,
        "shapes": [
         {
          "line": {
           "color": "gray",
           "dash": "dash",
           "width": 2
          },
          "type": "line",
          "x0": 0,
          "x1": 0,
          "xref": "x",
          "y0": 0,
          "y1": 1,
          "yref": "y domain"
         }
        ],
        "showlegend": true,
        "template": {
         "data": {
          "bar": [
           {
            "error_x": {
             "color": "#2a3f5f"
            },
            "error_y": {
             "color": "#2a3f5f"
            },
            "marker": {
             "line": {
              "color": "#E5ECF6",
              "width": 0.5
             },
             "pattern": {
              "fillmode": "overlay",
              "size": 10,
              "solidity": 0.2
             }
            },
            "type": "bar"
           }
          ],
          "barpolar": [
           {
            "marker": {
             "line": {
              "color": "#E5ECF6",
              "width": 0.5
             },
             "pattern": {
              "fillmode": "overlay",
              "size": 10,
              "solidity": 0.2
             }
            },
            "type": "barpolar"
           }
          ],
          "carpet": [
           {
            "aaxis": {
             "endlinecolor": "#2a3f5f",
             "gridcolor": "white",
             "linecolor": "white",
             "minorgridcolor": "white",
             "startlinecolor": "#2a3f5f"
            },
            "baxis": {
             "endlinecolor": "#2a3f5f",
             "gridcolor": "white",
             "linecolor": "white",
             "minorgridcolor": "white",
             "startlinecolor": "#2a3f5f"
            },
            "type": "carpet"
           }
          ],
          "choropleth": [
           {
            "colorbar": {
             "outlinewidth": 0,
             "ticks": ""
            },
            "type": "choropleth"
           }
          ],
          "contour": [
           {
            "colorbar": {
             "outlinewidth": 0,
             "ticks": ""
            },
            "colorscale": [
             [
              0,
              "#0d0887"
             ],
             [
              0.1111111111111111,
              "#46039f"
             ],
             [
              0.2222222222222222,
              "#7201a8"
             ],
             [
              0.3333333333333333,
              "#9c179e"
             ],
             [
              0.4444444444444444,
              "#bd3786"
             ],
             [
              0.5555555555555556,
              "#d8576b"
             ],
             [
              0.6666666666666666,
              "#ed7953"
             ],
             [
              0.7777777777777778,
              "#fb9f3a"
             ],
             [
              0.8888888888888888,
              "#fdca26"
             ],
             [
              1,
              "#f0f921"
             ]
            ],
            "type": "contour"
           }
          ],
          "contourcarpet": [
           {
            "colorbar": {
             "outlinewidth": 0,
             "ticks": ""
            },
            "type": "contourcarpet"
           }
          ],
          "heatmap": [
           {
            "colorbar": {
             "outlinewidth": 0,
             "ticks": ""
            },
            "colorscale": [
             [
              0,
              "#0d0887"
             ],
             [
              0.1111111111111111,
              "#46039f"
             ],
             [
              0.2222222222222222,
              "#7201a8"
             ],
             [
              0.3333333333333333,
              "#9c179e"
             ],
             [
              0.4444444444444444,
              "#bd3786"
             ],
             [
              0.5555555555555556,
              "#d8576b"
             ],
             [
              0.6666666666666666,
              "#ed7953"
             ],
             [
              0.7777777777777778,
              "#fb9f3a"
             ],
             [
              0.8888888888888888,
              "#fdca26"
             ],
             [
              1,
              "#f0f921"
             ]
            ],
            "type": "heatmap"
           }
          ],
          "heatmapgl": [
           {
            "colorbar": {
             "outlinewidth": 0,
             "ticks": ""
            },
            "colorscale": [
             [
              0,
              "#0d0887"
             ],
             [
              0.1111111111111111,
              "#46039f"
             ],
             [
              0.2222222222222222,
              "#7201a8"
             ],
             [
              0.3333333333333333,
              "#9c179e"
             ],
             [
              0.4444444444444444,
              "#bd3786"
             ],
             [
              0.5555555555555556,
              "#d8576b"
             ],
             [
              0.6666666666666666,
              "#ed7953"
             ],
             [
              0.7777777777777778,
              "#fb9f3a"
             ],
             [
              0.8888888888888888,
              "#fdca26"
             ],
             [
              1,
              "#f0f921"
             ]
            ],
            "type": "heatmapgl"
           }
          ],
          "histogram": [
           {
            "marker": {
             "pattern": {
              "fillmode": "overlay",
              "size": 10,
              "solidity": 0.2
             }
            },
            "type": "histogram"
           }
          ],
          "histogram2d": [
           {
            "colorbar": {
             "outlinewidth": 0,
             "ticks": ""
            },
            "colorscale": [
             [
              0,
              "#0d0887"
             ],
             [
              0.1111111111111111,
              "#46039f"
             ],
             [
              0.2222222222222222,
              "#7201a8"
             ],
             [
              0.3333333333333333,
              "#9c179e"
             ],
             [
              0.4444444444444444,
              "#bd3786"
             ],
             [
              0.5555555555555556,
              "#d8576b"
             ],
             [
              0.6666666666666666,
              "#ed7953"
             ],
             [
              0.7777777777777778,
              "#fb9f3a"
             ],
             [
              0.8888888888888888,
              "#fdca26"
             ],
             [
              1,
              "#f0f921"
             ]
            ],
            "type": "histogram2d"
           }
          ],
          "histogram2dcontour": [
           {
            "colorbar": {
             "outlinewidth": 0,
             "ticks": ""
            },
            "colorscale": [
             [
              0,
              "#0d0887"
             ],
             [
              0.1111111111111111,
              "#46039f"
             ],
             [
              0.2222222222222222,
              "#7201a8"
             ],
             [
              0.3333333333333333,
              "#9c179e"
             ],
             [
              0.4444444444444444,
              "#bd3786"
             ],
             [
              0.5555555555555556,
              "#d8576b"
             ],
             [
              0.6666666666666666,
              "#ed7953"
             ],
             [
              0.7777777777777778,
              "#fb9f3a"
             ],
             [
              0.8888888888888888,
              "#fdca26"
             ],
             [
              1,
              "#f0f921"
             ]
            ],
            "type": "histogram2dcontour"
           }
          ],
          "mesh3d": [
           {
            "colorbar": {
             "outlinewidth": 0,
             "ticks": ""
            },
            "type": "mesh3d"
           }
          ],
          "parcoords": [
           {
            "line": {
             "colorbar": {
              "outlinewidth": 0,
              "ticks": ""
             }
            },
            "type": "parcoords"
           }
          ],
          "pie": [
           {
            "automargin": true,
            "type": "pie"
           }
          ],
          "scatter": [
           {
            "fillpattern": {
             "fillmode": "overlay",
             "size": 10,
             "solidity": 0.2
            },
            "type": "scatter"
           }
          ],
          "scatter3d": [
           {
            "line": {
             "colorbar": {
              "outlinewidth": 0,
              "ticks": ""
             }
            },
            "marker": {
             "colorbar": {
              "outlinewidth": 0,
              "ticks": ""
             }
            },
            "type": "scatter3d"
           }
          ],
          "scattercarpet": [
           {
            "marker": {
             "colorbar": {
              "outlinewidth": 0,
              "ticks": ""
             }
            },
            "type": "scattercarpet"
           }
          ],
          "scattergeo": [
           {
            "marker": {
             "colorbar": {
              "outlinewidth": 0,
              "ticks": ""
             }
            },
            "type": "scattergeo"
           }
          ],
          "scattergl": [
           {
            "marker": {
             "colorbar": {
              "outlinewidth": 0,
              "ticks": ""
             }
            },
            "type": "scattergl"
           }
          ],
          "scattermapbox": [
           {
            "marker": {
             "colorbar": {
              "outlinewidth": 0,
              "ticks": ""
             }
            },
            "type": "scattermapbox"
           }
          ],
          "scatterpolar": [
           {
            "marker": {
             "colorbar": {
              "outlinewidth": 0,
              "ticks": ""
             }
            },
            "type": "scatterpolar"
           }
          ],
          "scatterpolargl": [
           {
            "marker": {
             "colorbar": {
              "outlinewidth": 0,
              "ticks": ""
             }
            },
            "type": "scatterpolargl"
           }
          ],
          "scatterternary": [
           {
            "marker": {
             "colorbar": {
              "outlinewidth": 0,
              "ticks": ""
             }
            },
            "type": "scatterternary"
           }
          ],
          "surface": [
           {
            "colorbar": {
             "outlinewidth": 0,
             "ticks": ""
            },
            "colorscale": [
             [
              0,
              "#0d0887"
             ],
             [
              0.1111111111111111,
              "#46039f"
             ],
             [
              0.2222222222222222,
              "#7201a8"
             ],
             [
              0.3333333333333333,
              "#9c179e"
             ],
             [
              0.4444444444444444,
              "#bd3786"
             ],
             [
              0.5555555555555556,
              "#d8576b"
             ],
             [
              0.6666666666666666,
              "#ed7953"
             ],
             [
              0.7777777777777778,
              "#fb9f3a"
             ],
             [
              0.8888888888888888,
              "#fdca26"
             ],
             [
              1,
              "#f0f921"
             ]
            ],
            "type": "surface"
           }
          ],
          "table": [
           {
            "cells": {
             "fill": {
              "color": "#EBF0F8"
             },
             "line": {
              "color": "white"
             }
            },
            "header": {
             "fill": {
              "color": "#C8D4E3"
             },
             "line": {
              "color": "white"
             }
            },
            "type": "table"
           }
          ]
         },
         "layout": {
          "annotationdefaults": {
           "arrowcolor": "#2a3f5f",
           "arrowhead": 0,
           "arrowwidth": 1
          },
          "autotypenumbers": "strict",
          "coloraxis": {
           "colorbar": {
            "outlinewidth": 0,
            "ticks": ""
           }
          },
          "colorscale": {
           "diverging": [
            [
             0,
             "#8e0152"
            ],
            [
             0.1,
             "#c51b7d"
            ],
            [
             0.2,
             "#de77ae"
            ],
            [
             0.3,
             "#f1b6da"
            ],
            [
             0.4,
             "#fde0ef"
            ],
            [
             0.5,
             "#f7f7f7"
            ],
            [
             0.6,
             "#e6f5d0"
            ],
            [
             0.7,
             "#b8e186"
            ],
            [
             0.8,
             "#7fbc41"
            ],
            [
             0.9,
             "#4d9221"
            ],
            [
             1,
             "#276419"
            ]
           ],
           "sequential": [
            [
             0,
             "#0d0887"
            ],
            [
             0.1111111111111111,
             "#46039f"
            ],
            [
             0.2222222222222222,
             "#7201a8"
            ],
            [
             0.3333333333333333,
             "#9c179e"
            ],
            [
             0.4444444444444444,
             "#bd3786"
            ],
            [
             0.5555555555555556,
             "#d8576b"
            ],
            [
             0.6666666666666666,
             "#ed7953"
            ],
            [
             0.7777777777777778,
             "#fb9f3a"
            ],
            [
             0.8888888888888888,
             "#fdca26"
            ],
            [
             1,
             "#f0f921"
            ]
           ],
           "sequentialminus": [
            [
             0,
             "#0d0887"
            ],
            [
             0.1111111111111111,
             "#46039f"
            ],
            [
             0.2222222222222222,
             "#7201a8"
            ],
            [
             0.3333333333333333,
             "#9c179e"
            ],
            [
             0.4444444444444444,
             "#bd3786"
            ],
            [
             0.5555555555555556,
             "#d8576b"
            ],
            [
             0.6666666666666666,
             "#ed7953"
            ],
            [
             0.7777777777777778,
             "#fb9f3a"
            ],
            [
             0.8888888888888888,
             "#fdca26"
            ],
            [
             1,
             "#f0f921"
            ]
           ]
          },
          "colorway": [
           "#636efa",
           "#EF553B",
           "#00cc96",
           "#ab63fa",
           "#FFA15A",
           "#19d3f3",
           "#FF6692",
           "#B6E880",
           "#FF97FF",
           "#FECB52"
          ],
          "font": {
           "color": "#2a3f5f"
          },
          "geo": {
           "bgcolor": "white",
           "lakecolor": "white",
           "landcolor": "#E5ECF6",
           "showlakes": true,
           "showland": true,
           "subunitcolor": "white"
          },
          "hoverlabel": {
           "align": "left"
          },
          "hovermode": "closest",
          "mapbox": {
           "style": "light"
          },
          "paper_bgcolor": "white",
          "plot_bgcolor": "#E5ECF6",
          "polar": {
           "angularaxis": {
            "gridcolor": "white",
            "linecolor": "white",
            "ticks": ""
           },
           "bgcolor": "#E5ECF6",
           "radialaxis": {
            "gridcolor": "white",
            "linecolor": "white",
            "ticks": ""
           }
          },
          "scene": {
           "xaxis": {
            "backgroundcolor": "#E5ECF6",
            "gridcolor": "white",
            "gridwidth": 2,
            "linecolor": "white",
            "showbackground": true,
            "ticks": "",
            "zerolinecolor": "white"
           },
           "yaxis": {
            "backgroundcolor": "#E5ECF6",
            "gridcolor": "white",
            "gridwidth": 2,
            "linecolor": "white",
            "showbackground": true,
            "ticks": "",
            "zerolinecolor": "white"
           },
           "zaxis": {
            "backgroundcolor": "#E5ECF6",
            "gridcolor": "white",
            "gridwidth": 2,
            "linecolor": "white",
            "showbackground": true,
            "ticks": "",
            "zerolinecolor": "white"
           }
          },
          "shapedefaults": {
           "line": {
            "color": "#2a3f5f"
           }
          },
          "ternary": {
           "aaxis": {
            "gridcolor": "white",
            "linecolor": "white",
            "ticks": ""
           },
           "baxis": {
            "gridcolor": "white",
            "linecolor": "white",
            "ticks": ""
           },
           "bgcolor": "#E5ECF6",
           "caxis": {
            "gridcolor": "white",
            "linecolor": "white",
            "ticks": ""
           }
          },
          "title": {
           "x": 0.05
          },
          "xaxis": {
           "automargin": true,
           "gridcolor": "white",
           "linecolor": "white",
           "ticks": "",
           "title": {
            "standoff": 15
           },
           "zerolinecolor": "white",
           "zerolinewidth": 2
          },
          "yaxis": {
           "automargin": true,
           "gridcolor": "white",
           "linecolor": "white",
           "ticks": "",
           "title": {
            "standoff": 15
           },
           "zerolinecolor": "white",
           "zerolinewidth": 2
          }
         }
        },
        "title": {
         "text": "Field Tilt (Share of Final-Third Passes): Reading FC vs Mansfield"
        },
        "xaxis": {
         "range": [
          -100,
          100
         ],
         "ticktext": [
          "100%",
          "75%",
          "50%",
          "25%",
          "0%",
          "25%",
          "50%",
          "75%",
          "100%"
         ],
         "tickvals": [
          -100,
          -75,
          -50,
          -25,
          0,
          25,
          50,
          75,
          100
         ],
         "zeroline": true,
         "zerolinewidth": 2
        },
        "yaxis": {
         "autorange": "reversed"
        }
       }
      }
     },
     "metadata": {},
     "output_type": "display_data"
    },
    {
     "name": "stdout",
     "output_type": "stream",
     "text": [
      "Reading Field Tilt (Overall): 65.22%\n",
      "Reading Field Tilt (1st Half): 76.09%\n",
      "Reading Field Tilt (2nd Half): 50.72%\n"
     ]
    }
   ],
   "source": [
    "import plotly.graph_objects as go\n",
    "\n",
    "OPP_LABEL = \"Mansfield\"\n",
    "\n",
    "opp_label = match.get('opp_name', OPP_LABEL)\n",
    "\n",
    "# --- Pull raw counts ---\n",
    "r_all = match['rfc_Passes_In_Final_Third']\n",
    "o_all = match['opp_Passes_In_Final_Third']\n",
    "\n",
    "r_1st = match['rfc_Passes_In_Final_Third_1st']\n",
    "o_1st = match['opp_Passes_In_Final_Third_1st']\n",
    "\n",
    "r_2nd = match['rfc_Passes_In_Final_Third_2nd']\n",
    "o_2nd = match['opp_Passes_In_Finals_Third_2nd']\n",
    "\n",
    "def share(a, b):\n",
    "    denom = a + b\n",
    "    return (a / denom) if denom > 0 else 0.5\n",
    "\n",
    "reading_share = [share(r_all, o_all), share(r_1st, o_1st), share(r_2nd, o_2nd)]\n",
    "opp_share     = [1 - x for x in reading_share]\n",
    "periods       = [\"Overall\", \"1st Half\", \"2nd Half\"]\n",
    "\n",
    "# Convert to +/- percentages for diverging bars\n",
    "reading_x = [s * 100 for s in reading_share]    # +%\n",
    "opp_x     = [-(s * 100) for s in opp_share]     # -%\n",
    "\n",
    "fig = go.Figure()\n",
    "\n",
    "fig.add_trace(go.Bar(\n",
    "    y=periods,\n",
    "    x=opp_x,\n",
    "    orientation='h',\n",
    "    name=opp_label,\n",
    "    text=[f\"{abs(x):.0f}%\" for x in opp_x],\n",
    "    textposition='inside',\n",
    "    insidetextanchor='middle',\n",
    "    marker_color='crimson',\n",
    "    hovertemplate=opp_label + \" share: %{x}%<extra></extra>\"\n",
    "))\n",
    "\n",
    "fig.add_trace(go.Bar(\n",
    "    y=periods,\n",
    "    x=reading_x,\n",
    "    orientation='h',\n",
    "    name=\"Reading FC\",\n",
    "    text=[f\"{x:.0f}%\" for x in reading_x],\n",
    "    textposition='inside',\n",
    "    insidetextanchor='middle',\n",
    "    marker_color='royalblue',\n",
    "    hovertemplate=\"Reading share: %{x}%<extra></extra>\"\n",
    "))\n",
    "\n",
    "fig.update_layout(\n",
    "    barmode='relative',\n",
    "    title=f\"Field Tilt (Share of Final-Third Passes): Reading FC vs {opp_label}\",\n",
    "    xaxis=dict(\n",
    "        range=[-100, 100],\n",
    "        tickvals=[-100, -75, -50, -25, 0, 25, 50, 75, 100],\n",
    "        ticktext=['100%', '75%', '50%', '25%', '0%', '25%', '50%', '75%', '100%'],\n",
    "        zeroline=True,\n",
    "        zerolinewidth=2\n",
    "    ),\n",
    "    yaxis=dict(autorange='reversed'),\n",
    "    bargap=0.2,\n",
    "    showlegend=True,\n",
    "    height=400\n",
    ")\n",
    "\n",
    "fig.add_vline(x=0, line_width=2, line_dash='dash', line_color='gray')\n",
    "fig.show()\n",
    "\n",
    "field_tilt     = share(r_all, o_all)\n",
    "field_tilt_1st = share(r_1st, o_1st)\n",
    "field_tilt_2nd = share(r_2nd, o_2nd)\n",
    "\n",
    "print(f\"Reading Field Tilt (Overall): {field_tilt:.2%}\")\n",
    "print(f\"Reading Field Tilt (1st Half): {field_tilt_1st:.2%}\")\n",
    "print(f\"Reading Field Tilt (2nd Half): {field_tilt_2nd:.2%}\")\n"
   ]
  },
  {
   "cell_type": "markdown",
   "id": "13465128",
   "metadata": {},
   "source": [
    "# Match Game Control Performance Radar"
   ]
  },
  {
   "cell_type": "code",
   "execution_count": 17,
   "id": "2cbe4a69",
   "metadata": {},
   "outputs": [
    {
     "data": {
      "application/vnd.plotly.v1+json": {
       "config": {
        "plotlyServerURL": "https://plot.ly"
       },
       "data": [
        {
         "fill": "toself",
         "line": {
          "color": "royalblue"
         },
         "name": "Reading FC",
         "r": [
          1,
          1,
          0.7894736842105263,
          1,
          1,
          1,
          1
         ],
         "theta": [
          "Possession",
          "Passes",
          "Long Passes",
          "Long Pass Accuracy",
          "Passes in Final Third",
          "Passes in Final Third Accuracy",
          "Possession"
         ],
         "type": "scatterpolar"
        },
        {
         "fill": "toself",
         "line": {
          "color": "red"
         },
         "name": "Mansfield",
         "r": [
          0.6666666666666666,
          0.5448577680525164,
          1,
          0.9142857142857143,
          0.5333333333333333,
          0.8,
          0.6666666666666666
         ],
         "theta": [
          "Possession",
          "Passes",
          "Long Passes",
          "Long Pass Accuracy",
          "Passes in Final Third",
          "Passes in Final Third Accuracy",
          "Possession"
         ],
         "type": "scatterpolar"
        }
       ],
       "layout": {
        "polar": {
         "radialaxis": {
          "range": [
           0,
           1
          ],
          "showticklabels": false,
          "visible": true
         }
        },
        "showlegend": true,
        "template": {
         "data": {
          "bar": [
           {
            "error_x": {
             "color": "#2a3f5f"
            },
            "error_y": {
             "color": "#2a3f5f"
            },
            "marker": {
             "line": {
              "color": "#E5ECF6",
              "width": 0.5
             },
             "pattern": {
              "fillmode": "overlay",
              "size": 10,
              "solidity": 0.2
             }
            },
            "type": "bar"
           }
          ],
          "barpolar": [
           {
            "marker": {
             "line": {
              "color": "#E5ECF6",
              "width": 0.5
             },
             "pattern": {
              "fillmode": "overlay",
              "size": 10,
              "solidity": 0.2
             }
            },
            "type": "barpolar"
           }
          ],
          "carpet": [
           {
            "aaxis": {
             "endlinecolor": "#2a3f5f",
             "gridcolor": "white",
             "linecolor": "white",
             "minorgridcolor": "white",
             "startlinecolor": "#2a3f5f"
            },
            "baxis": {
             "endlinecolor": "#2a3f5f",
             "gridcolor": "white",
             "linecolor": "white",
             "minorgridcolor": "white",
             "startlinecolor": "#2a3f5f"
            },
            "type": "carpet"
           }
          ],
          "choropleth": [
           {
            "colorbar": {
             "outlinewidth": 0,
             "ticks": ""
            },
            "type": "choropleth"
           }
          ],
          "contour": [
           {
            "colorbar": {
             "outlinewidth": 0,
             "ticks": ""
            },
            "colorscale": [
             [
              0,
              "#0d0887"
             ],
             [
              0.1111111111111111,
              "#46039f"
             ],
             [
              0.2222222222222222,
              "#7201a8"
             ],
             [
              0.3333333333333333,
              "#9c179e"
             ],
             [
              0.4444444444444444,
              "#bd3786"
             ],
             [
              0.5555555555555556,
              "#d8576b"
             ],
             [
              0.6666666666666666,
              "#ed7953"
             ],
             [
              0.7777777777777778,
              "#fb9f3a"
             ],
             [
              0.8888888888888888,
              "#fdca26"
             ],
             [
              1,
              "#f0f921"
             ]
            ],
            "type": "contour"
           }
          ],
          "contourcarpet": [
           {
            "colorbar": {
             "outlinewidth": 0,
             "ticks": ""
            },
            "type": "contourcarpet"
           }
          ],
          "heatmap": [
           {
            "colorbar": {
             "outlinewidth": 0,
             "ticks": ""
            },
            "colorscale": [
             [
              0,
              "#0d0887"
             ],
             [
              0.1111111111111111,
              "#46039f"
             ],
             [
              0.2222222222222222,
              "#7201a8"
             ],
             [
              0.3333333333333333,
              "#9c179e"
             ],
             [
              0.4444444444444444,
              "#bd3786"
             ],
             [
              0.5555555555555556,
              "#d8576b"
             ],
             [
              0.6666666666666666,
              "#ed7953"
             ],
             [
              0.7777777777777778,
              "#fb9f3a"
             ],
             [
              0.8888888888888888,
              "#fdca26"
             ],
             [
              1,
              "#f0f921"
             ]
            ],
            "type": "heatmap"
           }
          ],
          "heatmapgl": [
           {
            "colorbar": {
             "outlinewidth": 0,
             "ticks": ""
            },
            "colorscale": [
             [
              0,
              "#0d0887"
             ],
             [
              0.1111111111111111,
              "#46039f"
             ],
             [
              0.2222222222222222,
              "#7201a8"
             ],
             [
              0.3333333333333333,
              "#9c179e"
             ],
             [
              0.4444444444444444,
              "#bd3786"
             ],
             [
              0.5555555555555556,
              "#d8576b"
             ],
             [
              0.6666666666666666,
              "#ed7953"
             ],
             [
              0.7777777777777778,
              "#fb9f3a"
             ],
             [
              0.8888888888888888,
              "#fdca26"
             ],
             [
              1,
              "#f0f921"
             ]
            ],
            "type": "heatmapgl"
           }
          ],
          "histogram": [
           {
            "marker": {
             "pattern": {
              "fillmode": "overlay",
              "size": 10,
              "solidity": 0.2
             }
            },
            "type": "histogram"
           }
          ],
          "histogram2d": [
           {
            "colorbar": {
             "outlinewidth": 0,
             "ticks": ""
            },
            "colorscale": [
             [
              0,
              "#0d0887"
             ],
             [
              0.1111111111111111,
              "#46039f"
             ],
             [
              0.2222222222222222,
              "#7201a8"
             ],
             [
              0.3333333333333333,
              "#9c179e"
             ],
             [
              0.4444444444444444,
              "#bd3786"
             ],
             [
              0.5555555555555556,
              "#d8576b"
             ],
             [
              0.6666666666666666,
              "#ed7953"
             ],
             [
              0.7777777777777778,
              "#fb9f3a"
             ],
             [
              0.8888888888888888,
              "#fdca26"
             ],
             [
              1,
              "#f0f921"
             ]
            ],
            "type": "histogram2d"
           }
          ],
          "histogram2dcontour": [
           {
            "colorbar": {
             "outlinewidth": 0,
             "ticks": ""
            },
            "colorscale": [
             [
              0,
              "#0d0887"
             ],
             [
              0.1111111111111111,
              "#46039f"
             ],
             [
              0.2222222222222222,
              "#7201a8"
             ],
             [
              0.3333333333333333,
              "#9c179e"
             ],
             [
              0.4444444444444444,
              "#bd3786"
             ],
             [
              0.5555555555555556,
              "#d8576b"
             ],
             [
              0.6666666666666666,
              "#ed7953"
             ],
             [
              0.7777777777777778,
              "#fb9f3a"
             ],
             [
              0.8888888888888888,
              "#fdca26"
             ],
             [
              1,
              "#f0f921"
             ]
            ],
            "type": "histogram2dcontour"
           }
          ],
          "mesh3d": [
           {
            "colorbar": {
             "outlinewidth": 0,
             "ticks": ""
            },
            "type": "mesh3d"
           }
          ],
          "parcoords": [
           {
            "line": {
             "colorbar": {
              "outlinewidth": 0,
              "ticks": ""
             }
            },
            "type": "parcoords"
           }
          ],
          "pie": [
           {
            "automargin": true,
            "type": "pie"
           }
          ],
          "scatter": [
           {
            "fillpattern": {
             "fillmode": "overlay",
             "size": 10,
             "solidity": 0.2
            },
            "type": "scatter"
           }
          ],
          "scatter3d": [
           {
            "line": {
             "colorbar": {
              "outlinewidth": 0,
              "ticks": ""
             }
            },
            "marker": {
             "colorbar": {
              "outlinewidth": 0,
              "ticks": ""
             }
            },
            "type": "scatter3d"
           }
          ],
          "scattercarpet": [
           {
            "marker": {
             "colorbar": {
              "outlinewidth": 0,
              "ticks": ""
             }
            },
            "type": "scattercarpet"
           }
          ],
          "scattergeo": [
           {
            "marker": {
             "colorbar": {
              "outlinewidth": 0,
              "ticks": ""
             }
            },
            "type": "scattergeo"
           }
          ],
          "scattergl": [
           {
            "marker": {
             "colorbar": {
              "outlinewidth": 0,
              "ticks": ""
             }
            },
            "type": "scattergl"
           }
          ],
          "scattermapbox": [
           {
            "marker": {
             "colorbar": {
              "outlinewidth": 0,
              "ticks": ""
             }
            },
            "type": "scattermapbox"
           }
          ],
          "scatterpolar": [
           {
            "marker": {
             "colorbar": {
              "outlinewidth": 0,
              "ticks": ""
             }
            },
            "type": "scatterpolar"
           }
          ],
          "scatterpolargl": [
           {
            "marker": {
             "colorbar": {
              "outlinewidth": 0,
              "ticks": ""
             }
            },
            "type": "scatterpolargl"
           }
          ],
          "scatterternary": [
           {
            "marker": {
             "colorbar": {
              "outlinewidth": 0,
              "ticks": ""
             }
            },
            "type": "scatterternary"
           }
          ],
          "surface": [
           {
            "colorbar": {
             "outlinewidth": 0,
             "ticks": ""
            },
            "colorscale": [
             [
              0,
              "#0d0887"
             ],
             [
              0.1111111111111111,
              "#46039f"
             ],
             [
              0.2222222222222222,
              "#7201a8"
             ],
             [
              0.3333333333333333,
              "#9c179e"
             ],
             [
              0.4444444444444444,
              "#bd3786"
             ],
             [
              0.5555555555555556,
              "#d8576b"
             ],
             [
              0.6666666666666666,
              "#ed7953"
             ],
             [
              0.7777777777777778,
              "#fb9f3a"
             ],
             [
              0.8888888888888888,
              "#fdca26"
             ],
             [
              1,
              "#f0f921"
             ]
            ],
            "type": "surface"
           }
          ],
          "table": [
           {
            "cells": {
             "fill": {
              "color": "#EBF0F8"
             },
             "line": {
              "color": "white"
             }
            },
            "header": {
             "fill": {
              "color": "#C8D4E3"
             },
             "line": {
              "color": "white"
             }
            },
            "type": "table"
           }
          ]
         },
         "layout": {
          "annotationdefaults": {
           "arrowcolor": "#2a3f5f",
           "arrowhead": 0,
           "arrowwidth": 1
          },
          "autotypenumbers": "strict",
          "coloraxis": {
           "colorbar": {
            "outlinewidth": 0,
            "ticks": ""
           }
          },
          "colorscale": {
           "diverging": [
            [
             0,
             "#8e0152"
            ],
            [
             0.1,
             "#c51b7d"
            ],
            [
             0.2,
             "#de77ae"
            ],
            [
             0.3,
             "#f1b6da"
            ],
            [
             0.4,
             "#fde0ef"
            ],
            [
             0.5,
             "#f7f7f7"
            ],
            [
             0.6,
             "#e6f5d0"
            ],
            [
             0.7,
             "#b8e186"
            ],
            [
             0.8,
             "#7fbc41"
            ],
            [
             0.9,
             "#4d9221"
            ],
            [
             1,
             "#276419"
            ]
           ],
           "sequential": [
            [
             0,
             "#0d0887"
            ],
            [
             0.1111111111111111,
             "#46039f"
            ],
            [
             0.2222222222222222,
             "#7201a8"
            ],
            [
             0.3333333333333333,
             "#9c179e"
            ],
            [
             0.4444444444444444,
             "#bd3786"
            ],
            [
             0.5555555555555556,
             "#d8576b"
            ],
            [
             0.6666666666666666,
             "#ed7953"
            ],
            [
             0.7777777777777778,
             "#fb9f3a"
            ],
            [
             0.8888888888888888,
             "#fdca26"
            ],
            [
             1,
             "#f0f921"
            ]
           ],
           "sequentialminus": [
            [
             0,
             "#0d0887"
            ],
            [
             0.1111111111111111,
             "#46039f"
            ],
            [
             0.2222222222222222,
             "#7201a8"
            ],
            [
             0.3333333333333333,
             "#9c179e"
            ],
            [
             0.4444444444444444,
             "#bd3786"
            ],
            [
             0.5555555555555556,
             "#d8576b"
            ],
            [
             0.6666666666666666,
             "#ed7953"
            ],
            [
             0.7777777777777778,
             "#fb9f3a"
            ],
            [
             0.8888888888888888,
             "#fdca26"
            ],
            [
             1,
             "#f0f921"
            ]
           ]
          },
          "colorway": [
           "#636efa",
           "#EF553B",
           "#00cc96",
           "#ab63fa",
           "#FFA15A",
           "#19d3f3",
           "#FF6692",
           "#B6E880",
           "#FF97FF",
           "#FECB52"
          ],
          "font": {
           "color": "#2a3f5f"
          },
          "geo": {
           "bgcolor": "white",
           "lakecolor": "white",
           "landcolor": "#E5ECF6",
           "showlakes": true,
           "showland": true,
           "subunitcolor": "white"
          },
          "hoverlabel": {
           "align": "left"
          },
          "hovermode": "closest",
          "mapbox": {
           "style": "light"
          },
          "paper_bgcolor": "white",
          "plot_bgcolor": "#E5ECF6",
          "polar": {
           "angularaxis": {
            "gridcolor": "white",
            "linecolor": "white",
            "ticks": ""
           },
           "bgcolor": "#E5ECF6",
           "radialaxis": {
            "gridcolor": "white",
            "linecolor": "white",
            "ticks": ""
           }
          },
          "scene": {
           "xaxis": {
            "backgroundcolor": "#E5ECF6",
            "gridcolor": "white",
            "gridwidth": 2,
            "linecolor": "white",
            "showbackground": true,
            "ticks": "",
            "zerolinecolor": "white"
           },
           "yaxis": {
            "backgroundcolor": "#E5ECF6",
            "gridcolor": "white",
            "gridwidth": 2,
            "linecolor": "white",
            "showbackground": true,
            "ticks": "",
            "zerolinecolor": "white"
           },
           "zaxis": {
            "backgroundcolor": "#E5ECF6",
            "gridcolor": "white",
            "gridwidth": 2,
            "linecolor": "white",
            "showbackground": true,
            "ticks": "",
            "zerolinecolor": "white"
           }
          },
          "shapedefaults": {
           "line": {
            "color": "#2a3f5f"
           }
          },
          "ternary": {
           "aaxis": {
            "gridcolor": "white",
            "linecolor": "white",
            "ticks": ""
           },
           "baxis": {
            "gridcolor": "white",
            "linecolor": "white",
            "ticks": ""
           },
           "bgcolor": "#E5ECF6",
           "caxis": {
            "gridcolor": "white",
            "linecolor": "white",
            "ticks": ""
           }
          },
          "title": {
           "x": 0.05
          },
          "xaxis": {
           "automargin": true,
           "gridcolor": "white",
           "linecolor": "white",
           "ticks": "",
           "title": {
            "standoff": 15
           },
           "zerolinecolor": "white",
           "zerolinewidth": 2
          },
          "yaxis": {
           "automargin": true,
           "gridcolor": "white",
           "linecolor": "white",
           "ticks": "",
           "title": {
            "standoff": 15
           },
           "zerolinecolor": "white",
           "zerolinewidth": 2
          }
         }
        },
        "title": {
         "text": "Game Control Performance Radar: Reading FC vs Mansfield"
        }
       }
      }
     },
     "metadata": {},
     "output_type": "display_data"
    }
   ],
   "source": [
    "# Define game control categories\n",
    "control_categories = ['Possession', 'Passes', 'Long Passes', 'Long Pass Accuracy', 'Passes in Final Third', 'Passes in Final Third Accuracy']\n",
    "\n",
    "# Raw values\n",
    "reading_control_vals = [\n",
    "    match['rfc_Possesion'],\n",
    "    match['rfc_Passes'],\n",
    "    match['rfc_Long_Passes'],\n",
    "    match['rfc_LongPass%'],\n",
    "    match['rfc_Passes_In_Final_Third'],\n",
    "    match['rfc_Pass_In_Final_Third%'],\n",
    "]\n",
    "\n",
    "opp_control_vals = [\n",
    "    match['opp_Possesion'],\n",
    "    match['opp_Passes'],\n",
    "    match['opp_Long_Passes'],\n",
    "    match['opp_LongPass%'],\n",
    "    match['opp_Passes_In_Final_Third'],\n",
    "    match['opp_Pass_In_Final_Third%'],\n",
    "]\n",
    "\n",
    "# Normalize (so each stat is 0–1 range)\n",
    "max_vals = [max(r, o) if max(r, o) > 0 else 1 for r, o in zip(reading_control_vals, opp_control_vals)]\n",
    "reading_norm = [r / m for r, m in zip(reading_control_vals, max_vals)]\n",
    "opp_norm = [o / m for o, m in zip(opp_control_vals, max_vals)]\n",
    "\n",
    "# Create radar chart\n",
    "fig = go.Figure()\n",
    "\n",
    "fig.add_trace(go.Scatterpolar(\n",
    "    r=reading_norm + [reading_norm[0]],\n",
    "    theta=control_categories + [control_categories[0]],\n",
    "    fill='toself',\n",
    "    name='Reading FC',\n",
    "    line=dict(color='royalblue')\n",
    "))\n",
    "\n",
    "fig.add_trace(go.Scatterpolar(\n",
    "    r=opp_norm + [opp_norm[0]],\n",
    "    theta=control_categories + [control_categories[0]],\n",
    "    fill='toself',\n",
    "    name='Mansfield',\n",
    "    line=dict(color='red')\n",
    "))\n",
    "\n",
    "# Layout tweaks\n",
    "fig.update_layout(\n",
    "    polar=dict(\n",
    "        radialaxis=dict(visible=True, range=[0, 1], showticklabels=False)\n",
    "    ),\n",
    "    title=\"Game Control Performance Radar: Reading FC vs Mansfield\",\n",
    "    showlegend=True\n",
    ")\n",
    "\n",
    "fig.show()"
   ]
  },
  {
   "cell_type": "markdown",
   "id": "fa56a642",
   "metadata": {},
   "source": [
    "# Defensive Stats Analysis"
   ]
  },
  {
   "cell_type": "markdown",
   "id": "48d0e827",
   "metadata": {},
   "source": [
    "- Looking at 1st Half vs 2nd Half comparison for the defensive metrics\n",
    "- Defensive occurance\n",
    "- Overall Defensive Performance"
   ]
  },
  {
   "cell_type": "markdown",
   "id": "1b25f317",
   "metadata": {},
   "source": [
    "Defensive metrics include:\n",
    "\n",
    "- Fouls\n",
    "- Tackles and Accuracy\n",
    "- Duels Won\n",
    "- Clearances\n",
    "- Interceptions\n"
   ]
  },
  {
   "cell_type": "markdown",
   "id": "981317ad",
   "metadata": {},
   "source": [
    "# 1st Half vs 2nd Half "
   ]
  },
  {
   "cell_type": "code",
   "execution_count": 18,
   "id": "388cf229",
   "metadata": {},
   "outputs": [
    {
     "data": {
      "image/png": "[encoded data removed]",
      "text/plain": [
       "<Figure size 1600x1000 with 9 Axes>"
      ]
     },
     "metadata": {},
     "output_type": "display_data"
    }
   ],
   "source": [
    "defensive_metrics = {\n",
    "    \"Fouls\": [match['rfc_Fouls_1st'], match['rfc_Fouls_2nd']],\n",
    "    \"Tackles\": [match['rfc_Tackles_1st'], match['rfc_Tackles_2nd']],\n",
    "    \"Tackle Accuracy %\": [match['rfc_Tackle%_1st'], match['rfc_Tackle%_2nd']],\n",
    "    \"Duels Won\": [match['rfc_Duels_Won_1st'], match['rfc_Duels_Won_2nd']],\n",
    "    \"Clearances\": [match['rfc_Clearances_1st'], match['rfc_Clearances_2nd']],\n",
    "    \"Interceptions\": [match['rfc_Interceptions_1st'], match['rfc_Interceptions_2nd']]\n",
    "}\n",
    "\n",
    "# Plotting setup: \n",
    "fig, axs = plt.subplots(3, 3, figsize=(16, 10))\n",
    "axs = axs.flatten()  # Flatten for easy indexing\n",
    "\n",
    "# Plot each metric\n",
    "for idx, (metric, values) in enumerate(defensive_metrics.items()):\n",
    "    axs[idx].bar(['1st Half', '2nd Half'], values, color='royalblue')\n",
    "    axs[idx].set_title(f\"{metric} by Half\")\n",
    "    axs[idx].set_ylabel(metric)\n",
    "    axs[idx].grid(True, linestyle='--', alpha=0.5)\n",
    "\n",
    "# Hide any unused subplots (in case of uneven grid)\n",
    "for j in range(len(defensive_metrics), len(axs)):\n",
    "    axs[j].axis('off')\n",
    "\n",
    "plt.suptitle(\"Reading FC Match Defensive Metrics by Half\", fontsize=16, weight='bold')\n",
    "plt.tight_layout(rect=[0, 0, 1, 0.96])\n",
    "plt.show()"
   ]
  },
  {
   "cell_type": "code",
   "execution_count": 19,
   "id": "c97104af",
   "metadata": {},
   "outputs": [
    {
     "name": "stdout",
     "output_type": "stream",
     "text": [
      "Reading Defensive Efficiency: 0.65 actions per opp attack\n"
     ]
    }
   ],
   "source": [
    "opp_attacks = match['opp_Passes_In_Final_Third'] + match['opp_Touches_In_Opp_Box']\n",
    "rfc_def_actions = match['rfc_Tackles'] + match['rfc_Clearances'] + match['rfc_Interceptions']\n",
    "\n",
    "def_efficiency = rfc_def_actions / opp_attacks if opp_attacks else 0\n",
    "print(f\"Reading Defensive Efficiency: {def_efficiency:.2f} actions per opp attack\")\n"
   ]
  },
  {
   "cell_type": "code",
   "execution_count": 20,
   "id": "30513562",
   "metadata": {},
   "outputs": [
    {
     "name": "stdout",
     "output_type": "stream",
     "text": [
      "Tackles Won by Reading FC: 2.10\n"
     ]
    }
   ],
   "source": [
    "tackle_eff = match['rfc_Tackles'] * (match['rfc_Tackle%'] / 100)\n",
    "print(f\"Tackles Won by Reading FC: {tackle_eff:.2f}\")\n"
   ]
  },
  {
   "cell_type": "code",
   "execution_count": 21,
   "id": "65860a65",
   "metadata": {},
   "outputs": [
    {
     "name": "stdout",
     "output_type": "stream",
     "text": [
      "Total Defensive Actions by Reading FC: 51\n",
      "Total Defensive Actions by Mansfield: 42\n"
     ]
    }
   ],
   "source": [
    "defensive_actions_reading = match['rfc_Tackles'] + match['rfc_Clearances'] + match['rfc_Interceptions']\n",
    "defensive_actions_opp = match['opp_Tackles'] + match['opp_Clearances'] + match['opp_Interceptions']\n",
    "\n",
    "print(f\"Total Defensive Actions by Reading FC: {defensive_actions_reading}\")\n",
    "print(f\"Total Defensive Actions by Mansfield: {defensive_actions_opp}\")"
   ]
  },
  {
   "cell_type": "code",
   "execution_count": 22,
   "id": "be5d8802",
   "metadata": {},
   "outputs": [
    {
     "name": "stdout",
     "output_type": "stream",
     "text": [
      "Final Third Penetration & Threat by Mansfield: 0.41\n"
     ]
    }
   ],
   "source": [
    "touches_per_f3_pass = match['opp_Touches_In_Opp_Box'] / match['opp_Passes_In_Final_Third'] if match['opp_Passes_In_Final_Third'] else 0\n",
    "print(f\"Final Third Penetration & Threat by Mansfield: {touches_per_f3_pass:.2f}\")"
   ]
  },
  {
   "cell_type": "code",
   "execution_count": 23,
   "id": "0db309d8",
   "metadata": {},
   "outputs": [
    {
     "name": "stdout",
     "output_type": "stream",
     "text": [
      "Mansfield Shot Danger Ratio (Inside Box %): 57.14%\n"
     ]
    }
   ],
   "source": [
    "opp_shots_in_box = match['opp_Shots_Inside_Box']\n",
    "opp_total_shots = match['opp_Shots']\n",
    "opp_shot_danger = opp_shots_in_box / opp_total_shots if opp_total_shots else 0\n",
    "\n",
    "print(f\"Mansfield Shot Danger Ratio (Inside Box %): {opp_shot_danger:.2%}\")\n"
   ]
  },
  {
   "cell_type": "code",
   "execution_count": 24,
   "id": "79160d93",
   "metadata": {},
   "outputs": [
    {
     "name": "stdout",
     "output_type": "stream",
     "text": [
      "Reading Transition Efficiency: 0.31 shots per defensive action\n"
     ]
    }
   ],
   "source": [
    "# Simple proxy: shots created vs defensive actions won\n",
    "transition_eff = match['rfc_Shots'] / rfc_def_actions if rfc_def_actions else 0\n",
    "print(f\"Reading Transition Efficiency: {transition_eff:.2f} shots per defensive action\")\n"
   ]
  },
  {
   "cell_type": "code",
   "execution_count": 25,
   "id": "7a2d84e9",
   "metadata": {},
   "outputs": [
    {
     "name": "stdout",
     "output_type": "stream",
     "text": [
      "Stockport Final Third Pass Accuracy: 56.0%\n"
     ]
    }
   ],
   "source": [
    "opp_f3_acc = match['opp_Pass_In_Final_Third%']\n",
    "print(f\"Stockport Final Third Pass Accuracy: {opp_f3_acc:.1f}%\")\n"
   ]
  },
  {
   "cell_type": "markdown",
   "id": "832bfde2",
   "metadata": {},
   "source": [
    "# Match Defensive Performance Radar"
   ]
  },
  {
   "cell_type": "code",
   "execution_count": 26,
   "id": "94f4703f",
   "metadata": {},
   "outputs": [
    {
     "data": {
      "application/vnd.plotly.v1+json": {
       "config": {
        "plotlyServerURL": "https://plot.ly"
       },
       "data": [
        {
         "fill": "toself",
         "line": {
          "color": "royalblue"
         },
         "name": "Reading FC",
         "r": [
          1,
          0.7142857142857143,
          0.84,
          1,
          1,
          1,
          1
         ],
         "theta": [
          "Fouls",
          "Tackles",
          "Tackle Accuracy",
          "Duels Won",
          "Clearances",
          "Interceptions",
          "Fouls"
         ],
         "type": "scatterpolar"
        },
        {
         "fill": "toself",
         "line": {
          "color": "red"
         },
         "name": "Mansfield",
         "r": [
          1,
          1,
          1,
          0.8979591836734694,
          0.8235294117647058,
          0.5833333333333334,
          1
         ],
         "theta": [
          "Fouls",
          "Tackles",
          "Tackle Accuracy",
          "Duels Won",
          "Clearances",
          "Interceptions",
          "Fouls"
         ],
         "type": "scatterpolar"
        }
       ],
       "layout": {
        "polar": {
         "radialaxis": {
          "range": [
           0,
           1
          ],
          "showticklabels": false,
          "visible": true
         }
        },
        "showlegend": true,
        "template": {
         "data": {
          "bar": [
           {
            "error_x": {
             "color": "#2a3f5f"
            },
            "error_y": {
             "color": "#2a3f5f"
            },
            "marker": {
             "line": {
              "color": "#E5ECF6",
              "width": 0.5
             },
             "pattern": {
              "fillmode": "overlay",
              "size": 10,
              "solidity": 0.2
             }
            },
            "type": "bar"
           }
          ],
          "barpolar": [
           {
            "marker": {
             "line": {
              "color": "#E5ECF6",
              "width": 0.5
             },
             "pattern": {
              "fillmode": "overlay",
              "size": 10,
              "solidity": 0.2
             }
            },
            "type": "barpolar"
           }
          ],
          "carpet": [
           {
            "aaxis": {
             "endlinecolor": "#2a3f5f",
             "gridcolor": "white",
             "linecolor": "white",
             "minorgridcolor": "white",
             "startlinecolor": "#2a3f5f"
            },
            "baxis": {
             "endlinecolor": "#2a3f5f",
             "gridcolor": "white",
             "linecolor": "white",
             "minorgridcolor": "white",
             "startlinecolor": "#2a3f5f"
            },
            "type": "carpet"
           }
          ],
          "choropleth": [
           {
            "colorbar": {
             "outlinewidth": 0,
             "ticks": ""
            },
            "type": "choropleth"
           }
          ],
          "contour": [
           {
            "colorbar": {
             "outlinewidth": 0,
             "ticks": ""
            },
            "colorscale": [
             [
              0,
              "#0d0887"
             ],
             [
              0.1111111111111111,
              "#46039f"
             ],
             [
              0.2222222222222222,
              "#7201a8"
             ],
             [
              0.3333333333333333,
              "#9c179e"
             ],
             [
              0.4444444444444444,
              "#bd3786"
             ],
             [
              0.5555555555555556,
              "#d8576b"
             ],
             [
              0.6666666666666666,
              "#ed7953"
             ],
             [
              0.7777777777777778,
              "#fb9f3a"
             ],
             [
              0.8888888888888888,
              "#fdca26"
             ],
             [
              1,
              "#f0f921"
             ]
            ],
            "type": "contour"
           }
          ],
          "contourcarpet": [
           {
            "colorbar": {
             "outlinewidth": 0,
             "ticks": ""
            },
            "type": "contourcarpet"
           }
          ],
          "heatmap": [
           {
            "colorbar": {
             "outlinewidth": 0,
             "ticks": ""
            },
            "colorscale": [
             [
              0,
              "#0d0887"
             ],
             [
              0.1111111111111111,
              "#46039f"
             ],
             [
              0.2222222222222222,
              "#7201a8"
             ],
             [
              0.3333333333333333,
              "#9c179e"
             ],
             [
              0.4444444444444444,
              "#bd3786"
             ],
             [
              0.5555555555555556,
              "#d8576b"
             ],
             [
              0.6666666666666666,
              "#ed7953"
             ],
             [
              0.7777777777777778,
              "#fb9f3a"
             ],
             [
              0.8888888888888888,
              "#fdca26"
             ],
             [
              1,
              "#f0f921"
             ]
            ],
            "type": "heatmap"
           }
          ],
          "heatmapgl": [
           {
            "colorbar": {
             "outlinewidth": 0,
             "ticks": ""
            },
            "colorscale": [
             [
              0,
              "#0d0887"
             ],
             [
              0.1111111111111111,
              "#46039f"
             ],
             [
              0.2222222222222222,
              "#7201a8"
             ],
             [
              0.3333333333333333,
              "#9c179e"
             ],
             [
              0.4444444444444444,
              "#bd3786"
             ],
             [
              0.5555555555555556,
              "#d8576b"
             ],
             [
              0.6666666666666666,
              "#ed7953"
             ],
             [
              0.7777777777777778,
              "#fb9f3a"
             ],
             [
              0.8888888888888888,
              "#fdca26"
             ],
             [
              1,
              "#f0f921"
             ]
            ],
            "type": "heatmapgl"
           }
          ],
          "histogram": [
           {
            "marker": {
             "pattern": {
              "fillmode": "overlay",
              "size": 10,
              "solidity": 0.2
             }
            },
            "type": "histogram"
           }
          ],
          "histogram2d": [
           {
            "colorbar": {
             "outlinewidth": 0,
             "ticks": ""
            },
            "colorscale": [
             [
              0,
              "#0d0887"
             ],
             [
              0.1111111111111111,
              "#46039f"
             ],
             [
              0.2222222222222222,
              "#7201a8"
             ],
             [
              0.3333333333333333,
              "#9c179e"
             ],
             [
              0.4444444444444444,
              "#bd3786"
             ],
             [
              0.5555555555555556,
              "#d8576b"
             ],
             [
              0.6666666666666666,
              "#ed7953"
             ],
             [
              0.7777777777777778,
              "#fb9f3a"
             ],
             [
              0.8888888888888888,
              "#fdca26"
             ],
             [
              1,
              "#f0f921"
             ]
            ],
            "type": "histogram2d"
           }
          ],
          "histogram2dcontour": [
           {
            "colorbar": {
             "outlinewidth": 0,
             "ticks": ""
            },
            "colorscale": [
             [
              0,
              "#0d0887"
             ],
             [
              0.1111111111111111,
              "#46039f"
             ],
             [
              0.2222222222222222,
              "#7201a8"
             ],
             [
              0.3333333333333333,
              "#9c179e"
             ],
             [
              0.4444444444444444,
              "#bd3786"
             ],
             [
              0.5555555555555556,
              "#d8576b"
             ],
             [
              0.6666666666666666,
              "#ed7953"
             ],
             [
              0.7777777777777778,
              "#fb9f3a"
             ],
             [
              0.8888888888888888,
              "#fdca26"
             ],
             [
              1,
              "#f0f921"
             ]
            ],
            "type": "histogram2dcontour"
           }
          ],
          "mesh3d": [
           {
            "colorbar": {
             "outlinewidth": 0,
             "ticks": ""
            },
            "type": "mesh3d"
           }
          ],
          "parcoords": [
           {
            "line": {
             "colorbar": {
              "outlinewidth": 0,
              "ticks": ""
             }
            },
            "type": "parcoords"
           }
          ],
          "pie": [
           {
            "automargin": true,
            "type": "pie"
           }
          ],
          "scatter": [
           {
            "fillpattern": {
             "fillmode": "overlay",
             "size": 10,
             "solidity": 0.2
            },
            "type": "scatter"
           }
          ],
          "scatter3d": [
           {
            "line": {
             "colorbar": {
              "outlinewidth": 0,
              "ticks": ""
             }
            },
            "marker": {
             "colorbar": {
              "outlinewidth": 0,
              "ticks": ""
             }
            },
            "type": "scatter3d"
           }
          ],
          "scattercarpet": [
           {
            "marker": {
             "colorbar": {
              "outlinewidth": 0,
              "ticks": ""
             }
            },
            "type": "scattercarpet"
           }
          ],
          "scattergeo": [
           {
            "marker": {
             "colorbar": {
              "outlinewidth": 0,
              "ticks": ""
             }
            },
            "type": "scattergeo"
           }
          ],
          "scattergl": [
           {
            "marker": {
             "colorbar": {
              "outlinewidth": 0,
              "ticks": ""
             }
            },
            "type": "scattergl"
           }
          ],
          "scattermapbox": [
           {
            "marker": {
             "colorbar": {
              "outlinewidth": 0,
              "ticks": ""
             }
            },
            "type": "scattermapbox"
           }
          ],
          "scatterpolar": [
           {
            "marker": {
             "colorbar": {
              "outlinewidth": 0,
              "ticks": ""
             }
            },
            "type": "scatterpolar"
           }
          ],
          "scatterpolargl": [
           {
            "marker": {
             "colorbar": {
              "outlinewidth": 0,
              "ticks": ""
             }
            },
            "type": "scatterpolargl"
           }
          ],
          "scatterternary": [
           {
            "marker": {
             "colorbar": {
              "outlinewidth": 0,
              "ticks": ""
             }
            },
            "type": "scatterternary"
           }
          ],
          "surface": [
           {
            "colorbar": {
             "outlinewidth": 0,
             "ticks": ""
            },
            "colorscale": [
             [
              0,
              "#0d0887"
             ],
             [
              0.1111111111111111,
              "#46039f"
             ],
             [
              0.2222222222222222,
              "#7201a8"
             ],
             [
              0.3333333333333333,
              "#9c179e"
             ],
             [
              0.4444444444444444,
              "#bd3786"
             ],
             [
              0.5555555555555556,
              "#d8576b"
             ],
             [
              0.6666666666666666,
              "#ed7953"
             ],
             [
              0.7777777777777778,
              "#fb9f3a"
             ],
             [
              0.8888888888888888,
              "#fdca26"
             ],
             [
              1,
              "#f0f921"
             ]
            ],
            "type": "surface"
           }
          ],
          "table": [
           {
            "cells": {
             "fill": {
              "color": "#EBF0F8"
             },
             "line": {
              "color": "white"
             }
            },
            "header": {
             "fill": {
              "color": "#C8D4E3"
             },
             "line": {
              "color": "white"
             }
            },
            "type": "table"
           }
          ]
         },
         "layout": {
          "annotationdefaults": {
           "arrowcolor": "#2a3f5f",
           "arrowhead": 0,
           "arrowwidth": 1
          },
          "autotypenumbers": "strict",
          "coloraxis": {
           "colorbar": {
            "outlinewidth": 0,
            "ticks": ""
           }
          },
          "colorscale": {
           "diverging": [
            [
             0,
             "#8e0152"
            ],
            [
             0.1,
             "#c51b7d"
            ],
            [
             0.2,
             "#de77ae"
            ],
            [
             0.3,
             "#f1b6da"
            ],
            [
             0.4,
             "#fde0ef"
            ],
            [
             0.5,
             "#f7f7f7"
            ],
            [
             0.6,
             "#e6f5d0"
            ],
            [
             0.7,
             "#b8e186"
            ],
            [
             0.8,
             "#7fbc41"
            ],
            [
             0.9,
             "#4d9221"
            ],
            [
             1,
             "#276419"
            ]
           ],
           "sequential": [
            [
             0,
             "#0d0887"
            ],
            [
             0.1111111111111111,
             "#46039f"
            ],
            [
             0.2222222222222222,
             "#7201a8"
            ],
            [
             0.3333333333333333,
             "#9c179e"
            ],
            [
             0.4444444444444444,
             "#bd3786"
            ],
            [
             0.5555555555555556,
             "#d8576b"
            ],
            [
             0.6666666666666666,
             "#ed7953"
            ],
            [
             0.7777777777777778,
             "#fb9f3a"
            ],
            [
             0.8888888888888888,
             "#fdca26"
            ],
            [
             1,
             "#f0f921"
            ]
           ],
           "sequentialminus": [
            [
             0,
             "#0d0887"
            ],
            [
             0.1111111111111111,
             "#46039f"
            ],
            [
             0.2222222222222222,
             "#7201a8"
            ],
            [
             0.3333333333333333,
             "#9c179e"
            ],
            [
             0.4444444444444444,
             "#bd3786"
            ],
            [
             0.5555555555555556,
             "#d8576b"
            ],
            [
             0.6666666666666666,
             "#ed7953"
            ],
            [
             0.7777777777777778,
             "#fb9f3a"
            ],
            [
             0.8888888888888888,
             "#fdca26"
            ],
            [
             1,
             "#f0f921"
            ]
           ]
          },
          "colorway": [
           "#636efa",
           "#EF553B",
           "#00cc96",
           "#ab63fa",
           "#FFA15A",
           "#19d3f3",
           "#FF6692",
           "#B6E880",
           "#FF97FF",
           "#FECB52"
          ],
          "font": {
           "color": "#2a3f5f"
          },
          "geo": {
           "bgcolor": "white",
           "lakecolor": "white",
           "landcolor": "#E5ECF6",
           "showlakes": true,
           "showland": true,
           "subunitcolor": "white"
          },
          "hoverlabel": {
           "align": "left"
          },
          "hovermode": "closest",
          "mapbox": {
           "style": "light"
          },
          "paper_bgcolor": "white",
          "plot_bgcolor": "#E5ECF6",
          "polar": {
           "angularaxis": {
            "gridcolor": "white",
            "linecolor": "white",
            "ticks": ""
           },
           "bgcolor": "#E5ECF6",
           "radialaxis": {
            "gridcolor": "white",
            "linecolor": "white",
            "ticks": ""
           }
          },
          "scene": {
           "xaxis": {
            "backgroundcolor": "#E5ECF6",
            "gridcolor": "white",
            "gridwidth": 2,
            "linecolor": "white",
            "showbackground": true,
            "ticks": "",
            "zerolinecolor": "white"
           },
           "yaxis": {
            "backgroundcolor": "#E5ECF6",
            "gridcolor": "white",
            "gridwidth": 2,
            "linecolor": "white",
            "showbackground": true,
            "ticks": "",
            "zerolinecolor": "white"
           },
           "zaxis": {
            "backgroundcolor": "#E5ECF6",
            "gridcolor": "white",
            "gridwidth": 2,
            "linecolor": "white",
            "showbackground": true,
            "ticks": "",
            "zerolinecolor": "white"
           }
          },
          "shapedefaults": {
           "line": {
            "color": "#2a3f5f"
           }
          },
          "ternary": {
           "aaxis": {
            "gridcolor": "white",
            "linecolor": "white",
            "ticks": ""
           },
           "baxis": {
            "gridcolor": "white",
            "linecolor": "white",
            "ticks": ""
           },
           "bgcolor": "#E5ECF6",
           "caxis": {
            "gridcolor": "white",
            "linecolor": "white",
            "ticks": ""
           }
          },
          "title": {
           "x": 0.05
          },
          "xaxis": {
           "automargin": true,
           "gridcolor": "white",
           "linecolor": "white",
           "ticks": "",
           "title": {
            "standoff": 15
           },
           "zerolinecolor": "white",
           "zerolinewidth": 2
          },
          "yaxis": {
           "automargin": true,
           "gridcolor": "white",
           "linecolor": "white",
           "ticks": "",
           "title": {
            "standoff": 15
           },
           "zerolinecolor": "white",
           "zerolinewidth": 2
          }
         }
        },
        "title": {
         "text": "Defensive Performance Radar: Reading FC vs Mansfield"
        }
       }
      }
     },
     "metadata": {},
     "output_type": "display_data"
    }
   ],
   "source": [
    "# Define game control categories\n",
    "defensive_categories = ['Fouls', 'Tackles', 'Tackle Accuracy', 'Duels Won', 'Clearances', 'Interceptions']\n",
    "\n",
    "# Raw values\n",
    "reading_defensive_vals = [\n",
    "    match['rfc_Fouls'],\n",
    "    match['rfc_Tackles'],\n",
    "    match['rfc_Tackle%'],\n",
    "    match['rfc_Duels_Won'],\n",
    "    match['rfc_Clearances'],\n",
    "    match['rfc_Interceptions'],\n",
    "]\n",
    "\n",
    "opp_defensive_vals = [\n",
    "    match['opp_Fouls'],\n",
    "    match['opp_Tackles'],\n",
    "    match['opp_Tackle%'],\n",
    "    match['opp_Duels_Won'],\n",
    "    match['opp_Clearances'],\n",
    "    match['opp_Interceptions'],\n",
    "]\n",
    "\n",
    "# Normalize (so each stat is 0–1 range)\n",
    "max_vals = [max(r, o) if max(r, o) > 0 else 1 for r, o in zip(reading_defensive_vals, opp_defensive_vals)]\n",
    "reading_norm = [r / m for r, m in zip(reading_defensive_vals, max_vals)]\n",
    "opp_norm = [o / m for o, m in zip(opp_defensive_vals, max_vals)]\n",
    "\n",
    "# Create radar chart\n",
    "fig = go.Figure()\n",
    "\n",
    "fig.add_trace(go.Scatterpolar(\n",
    "    r=reading_norm + [reading_norm[0]],\n",
    "    theta=defensive_categories + [defensive_categories[0]],\n",
    "    fill='toself',\n",
    "    name='Reading FC',\n",
    "    line=dict(color='royalblue')\n",
    "))\n",
    "\n",
    "fig.add_trace(go.Scatterpolar(\n",
    "    r=opp_norm + [opp_norm[0]],\n",
    "    theta=defensive_categories + [defensive_categories[0]],\n",
    "    fill='toself',\n",
    "    name='Mansfield',\n",
    "    line=dict(color='red')\n",
    "))\n",
    "\n",
    "# Layout tweaks\n",
    "fig.update_layout(\n",
    "    polar=dict(\n",
    "        radialaxis=dict(visible=True, range=[0, 1], showticklabels=False)\n",
    "    ),\n",
    "    title=\"Defensive Performance Radar: Reading FC vs Mansfield\",\n",
    "    showlegend=True\n",
    ")\n",
    "\n",
    "fig.show()"
   ]
  },
  {
   "cell_type": "markdown",
   "id": "dd40c879",
   "metadata": {},
   "source": [
    "# Goalkeeper Analysis"
   ]
  },
  {
   "cell_type": "markdown",
   "id": "ae7ff30e",
   "metadata": {},
   "source": [
    "- Looking at 1st Half vs 2nd Half Goalkeeper metrics\n",
    "- Goalkeeping efficiency\n",
    "- Overall Goalkeeper Performance"
   ]
  },
  {
   "cell_type": "markdown",
   "id": "95e1a86a",
   "metadata": {},
   "source": [
    "Goalkeeper metrics include:\n",
    "\n",
    "- Saves\n",
    "- xGOT Faced = Expected Goals on Target\n",
    "- Goals Prevented"
   ]
  },
  {
   "cell_type": "markdown",
   "id": "a0f127a4",
   "metadata": {},
   "source": [
    "# 1st Half vs 2nd Half"
   ]
  },
  {
   "cell_type": "code",
   "execution_count": 27,
   "id": "cc751c7c",
   "metadata": {},
   "outputs": [
    {
     "data": {
      "image/png": "[encoded data removed]",
      "text/plain": [
       "<Figure size 1600x1000 with 6 Axes>"
      ]
     },
     "metadata": {},
     "output_type": "display_data"
    }
   ],
   "source": [
    "goalkeeper_metrics = {\n",
    "    \"Saves\": [match['rfc_GK_Saves_1st'], match['rfc_GK_Saves_2nd']],\n",
    "    \"xGOT Faced\": [match['rfc_xGOT_Faced_1st'], match['rfc_xGOT_Faced_2nd']],\n",
    "    \"Goals Prevented\": [match['rfc_GK_Goals_Prevented_1st'], match['rfc_GK_Goals_Prevented_2nd']]\n",
    "}\n",
    "\n",
    "# Plotting setup: \n",
    "fig, axs = plt.subplots(3, 2, figsize=(16, 10))\n",
    "axs = axs.flatten()  # Flatten for easy indexing\n",
    "\n",
    "# Plot each metric\n",
    "for idx, (metric, values) in enumerate(goalkeeper_metrics.items()):\n",
    "    axs[idx].bar(['1st Half', '2nd Half'], values, color='royalblue')\n",
    "    axs[idx].set_title(f\"{metric} by Half\")\n",
    "    axs[idx].set_ylabel(metric)\n",
    "    axs[idx].grid(True, linestyle='--', alpha=0.5)\n",
    "\n",
    "# Hide any unused subplots (in case of uneven grid)\n",
    "for j in range(len(goalkeeper_metrics), len(axs)):\n",
    "    axs[j].axis('off')\n",
    "\n",
    "plt.suptitle(\"Reading FC Goalkeeper Metrics by Half\", fontsize=16, weight='bold')\n",
    "plt.tight_layout(rect=[0, 0, 1, 0.96])\n",
    "plt.show()"
   ]
  },
  {
   "cell_type": "code",
   "execution_count": 28,
   "id": "e973aef3",
   "metadata": {},
   "outputs": [
    {
     "name": "stdout",
     "output_type": "stream",
     "text": [
      "xGOT Faced           0.53\n",
      "Saves Made           1.00\n",
      "Goals Conceded       1.00\n",
      "Goals Prevented     -0.47\n",
      "Save Rate vs xGOT    0.47\n",
      "dtype: float64\n"
     ]
    }
   ],
   "source": [
    "# Shot-stopping performance\n",
    "xGOT_faced = match['rfc_xGOT_Faced']\n",
    "saves = match['rfc_GK_Saves']\n",
    "goals = match['opp_Score']\n",
    "\n",
    "gk_performance = {\n",
    "    \"xGOT Faced\": xGOT_faced,\n",
    "    \"Saves Made\": saves,\n",
    "    \"Goals Conceded\": goals,\n",
    "    \"Goals Prevented\": match['rfc_GK_Goals_Prevented'],\n",
    "    \"Save Rate vs xGOT\": (saves - xGOT_faced) if xGOT_faced else 0\n",
    "}\n",
    "\n",
    "print(pd.Series(gk_performance))\n"
   ]
  },
  {
   "cell_type": "code",
   "execution_count": 29,
   "id": "4322e498",
   "metadata": {},
   "outputs": [
    {
     "name": "stdout",
     "output_type": "stream",
     "text": [
      "Save Efficiency by Reading FC: 0.50\n"
     ]
    }
   ],
   "source": [
    "save_eff = match['rfc_GK_Saves'] / match['opp_SOT'] if match['opp_SOT'] else 0\n",
    "print(f\"Save Efficiency by Reading FC: {save_eff:.2f}\")"
   ]
  },
  {
   "cell_type": "code",
   "execution_count": 30,
   "id": "99d031f6",
   "metadata": {},
   "outputs": [
    {
     "data": {
      "application/vnd.plotly.v1+json": {
       "config": {
        "plotlyServerURL": "https://plot.ly"
       },
       "data": [
        {
         "fill": "toself",
         "line": {
          "color": "royalblue"
         },
         "name": "Reading FC",
         "r": [
          0.5,
          0.5145631067961165,
          -15.666666666666666,
          0.5
         ],
         "theta": [
          "Saves",
          "xGOT",
          "Goals Prevented",
          "Saves"
         ],
         "type": "scatterpolar"
        },
        {
         "fill": "toself",
         "line": {
          "color": "red"
         },
         "name": "Mansfield",
         "r": [
          1,
          1,
          1,
          1
         ],
         "theta": [
          "Saves",
          "xGOT",
          "Goals Prevented",
          "Saves"
         ],
         "type": "scatterpolar"
        }
       ],
       "layout": {
        "polar": {
         "radialaxis": {
          "range": [
           0,
           1
          ],
          "showticklabels": false,
          "visible": true
         }
        },
        "showlegend": true,
        "template": {
         "data": {
          "bar": [
           {
            "error_x": {
             "color": "#2a3f5f"
            },
            "error_y": {
             "color": "#2a3f5f"
            },
            "marker": {
             "line": {
              "color": "#E5ECF6",
              "width": 0.5
             },
             "pattern": {
              "fillmode": "overlay",
              "size": 10,
              "solidity": 0.2
             }
            },
            "type": "bar"
           }
          ],
          "barpolar": [
           {
            "marker": {
             "line": {
              "color": "#E5ECF6",
              "width": 0.5
             },
             "pattern": {
              "fillmode": "overlay",
              "size": 10,
              "solidity": 0.2
             }
            },
            "type": "barpolar"
           }
          ],
          "carpet": [
           {
            "aaxis": {
             "endlinecolor": "#2a3f5f",
             "gridcolor": "white",
             "linecolor": "white",
             "minorgridcolor": "white",
             "startlinecolor": "#2a3f5f"
            },
            "baxis": {
             "endlinecolor": "#2a3f5f",
             "gridcolor": "white",
             "linecolor": "white",
             "minorgridcolor": "white",
             "startlinecolor": "#2a3f5f"
            },
            "type": "carpet"
           }
          ],
          "choropleth": [
           {
            "colorbar": {
             "outlinewidth": 0,
             "ticks": ""
            },
            "type": "choropleth"
           }
          ],
          "contour": [
           {
            "colorbar": {
             "outlinewidth": 0,
             "ticks": ""
            },
            "colorscale": [
             [
              0,
              "#0d0887"
             ],
             [
              0.1111111111111111,
              "#46039f"
             ],
             [
              0.2222222222222222,
              "#7201a8"
             ],
             [
              0.3333333333333333,
              "#9c179e"
             ],
             [
              0.4444444444444444,
              "#bd3786"
             ],
             [
              0.5555555555555556,
              "#d8576b"
             ],
             [
              0.6666666666666666,
              "#ed7953"
             ],
             [
              0.7777777777777778,
              "#fb9f3a"
             ],
             [
              0.8888888888888888,
              "#fdca26"
             ],
             [
              1,
              "#f0f921"
             ]
            ],
            "type": "contour"
           }
          ],
          "contourcarpet": [
           {
            "colorbar": {
             "outlinewidth": 0,
             "ticks": ""
            },
            "type": "contourcarpet"
           }
          ],
          "heatmap": [
           {
            "colorbar": {
             "outlinewidth": 0,
             "ticks": ""
            },
            "colorscale": [
             [
              0,
              "#0d0887"
             ],
             [
              0.1111111111111111,
              "#46039f"
             ],
             [
              0.2222222222222222,
              "#7201a8"
             ],
             [
              0.3333333333333333,
              "#9c179e"
             ],
             [
              0.4444444444444444,
              "#bd3786"
             ],
             [
              0.5555555555555556,
              "#d8576b"
             ],
             [
              0.6666666666666666,
              "#ed7953"
             ],
             [
              0.7777777777777778,
              "#fb9f3a"
             ],
             [
              0.8888888888888888,
              "#fdca26"
             ],
             [
              1,
              "#f0f921"
             ]
            ],
            "type": "heatmap"
           }
          ],
          "heatmapgl": [
           {
            "colorbar": {
             "outlinewidth": 0,
             "ticks": ""
            },
            "colorscale": [
             [
              0,
              "#0d0887"
             ],
             [
              0.1111111111111111,
              "#46039f"
             ],
             [
              0.2222222222222222,
              "#7201a8"
             ],
             [
              0.3333333333333333,
              "#9c179e"
             ],
             [
              0.4444444444444444,
              "#bd3786"
             ],
             [
              0.5555555555555556,
              "#d8576b"
             ],
             [
              0.6666666666666666,
              "#ed7953"
             ],
             [
              0.7777777777777778,
              "#fb9f3a"
             ],
             [
              0.8888888888888888,
              "#fdca26"
             ],
             [
              1,
              "#f0f921"
             ]
            ],
            "type": "heatmapgl"
           }
          ],
          "histogram": [
           {
            "marker": {
             "pattern": {
              "fillmode": "overlay",
              "size": 10,
              "solidity": 0.2
             }
            },
            "type": "histogram"
           }
          ],
          "histogram2d": [
           {
            "colorbar": {
             "outlinewidth": 0,
             "ticks": ""
            },
            "colorscale": [
             [
              0,
              "#0d0887"
             ],
             [
              0.1111111111111111,
              "#46039f"
             ],
             [
              0.2222222222222222,
              "#7201a8"
             ],
             [
              0.3333333333333333,
              "#9c179e"
             ],
             [
              0.4444444444444444,
              "#bd3786"
             ],
             [
              0.5555555555555556,
              "#d8576b"
             ],
             [
              0.6666666666666666,
              "#ed7953"
             ],
             [
              0.7777777777777778,
              "#fb9f3a"
             ],
             [
              0.8888888888888888,
              "#fdca26"
             ],
             [
              1,
              "#f0f921"
             ]
            ],
            "type": "histogram2d"
           }
          ],
          "histogram2dcontour": [
           {
            "colorbar": {
             "outlinewidth": 0,
             "ticks": ""
            },
            "colorscale": [
             [
              0,
              "#0d0887"
             ],
             [
              0.1111111111111111,
              "#46039f"
             ],
             [
              0.2222222222222222,
              "#7201a8"
             ],
             [
              0.3333333333333333,
              "#9c179e"
             ],
             [
              0.4444444444444444,
              "#bd3786"
             ],
             [
              0.5555555555555556,
              "#d8576b"
             ],
             [
              0.6666666666666666,
              "#ed7953"
             ],
             [
              0.7777777777777778,
              "#fb9f3a"
             ],
             [
              0.8888888888888888,
              "#fdca26"
             ],
             [
              1,
              "#f0f921"
             ]
            ],
            "type": "histogram2dcontour"
           }
          ],
          "mesh3d": [
           {
            "colorbar": {
             "outlinewidth": 0,
             "ticks": ""
            },
            "type": "mesh3d"
           }
          ],
          "parcoords": [
           {
            "line": {
             "colorbar": {
              "outlinewidth": 0,
              "ticks": ""
             }
            },
            "type": "parcoords"
           }
          ],
          "pie": [
           {
            "automargin": true,
            "type": "pie"
           }
          ],
          "scatter": [
           {
            "fillpattern": {
             "fillmode": "overlay",
             "size": 10,
             "solidity": 0.2
            },
            "type": "scatter"
           }
          ],
          "scatter3d": [
           {
            "line": {
             "colorbar": {
              "outlinewidth": 0,
              "ticks": ""
             }
            },
            "marker": {
             "colorbar": {
              "outlinewidth": 0,
              "ticks": ""
             }
            },
            "type": "scatter3d"
           }
          ],
          "scattercarpet": [
           {
            "marker": {
             "colorbar": {
              "outlinewidth": 0,
              "ticks": ""
             }
            },
            "type": "scattercarpet"
           }
          ],
          "scattergeo": [
           {
            "marker": {
             "colorbar": {
              "outlinewidth": 0,
              "ticks": ""
             }
            },
            "type": "scattergeo"
           }
          ],
          "scattergl": [
           {
            "marker": {
             "colorbar": {
              "outlinewidth": 0,
              "ticks": ""
             }
            },
            "type": "scattergl"
           }
          ],
          "scattermapbox": [
           {
            "marker": {
             "colorbar": {
              "outlinewidth": 0,
              "ticks": ""
             }
            },
            "type": "scattermapbox"
           }
          ],
          "scatterpolar": [
           {
            "marker": {
             "colorbar": {
              "outlinewidth": 0,
              "ticks": ""
             }
            },
            "type": "scatterpolar"
           }
          ],
          "scatterpolargl": [
           {
            "marker": {
             "colorbar": {
              "outlinewidth": 0,
              "ticks": ""
             }
            },
            "type": "scatterpolargl"
           }
          ],
          "scatterternary": [
           {
            "marker": {
             "colorbar": {
              "outlinewidth": 0,
              "ticks": ""
             }
            },
            "type": "scatterternary"
           }
          ],
          "surface": [
           {
            "colorbar": {
             "outlinewidth": 0,
             "ticks": ""
            },
            "colorscale": [
             [
              0,
              "#0d0887"
             ],
             [
              0.1111111111111111,
              "#46039f"
             ],
             [
              0.2222222222222222,
              "#7201a8"
             ],
             [
              0.3333333333333333,
              "#9c179e"
             ],
             [
              0.4444444444444444,
              "#bd3786"
             ],
             [
              0.5555555555555556,
              "#d8576b"
             ],
             [
              0.6666666666666666,
              "#ed7953"
             ],
             [
              0.7777777777777778,
              "#fb9f3a"
             ],
             [
              0.8888888888888888,
              "#fdca26"
             ],
             [
              1,
              "#f0f921"
             ]
            ],
            "type": "surface"
           }
          ],
          "table": [
           {
            "cells": {
             "fill": {
              "color": "#EBF0F8"
             },
             "line": {
              "color": "white"
             }
            },
            "header": {
             "fill": {
              "color": "#C8D4E3"
             },
             "line": {
              "color": "white"
             }
            },
            "type": "table"
           }
          ]
         },
         "layout": {
          "annotationdefaults": {
           "arrowcolor": "#2a3f5f",
           "arrowhead": 0,
           "arrowwidth": 1
          },
          "autotypenumbers": "strict",
          "coloraxis": {
           "colorbar": {
            "outlinewidth": 0,
            "ticks": ""
           }
          },
          "colorscale": {
           "diverging": [
            [
             0,
             "#8e0152"
            ],
            [
             0.1,
             "#c51b7d"
            ],
            [
             0.2,
             "#de77ae"
            ],
            [
             0.3,
             "#f1b6da"
            ],
            [
             0.4,
             "#fde0ef"
            ],
            [
             0.5,
             "#f7f7f7"
            ],
            [
             0.6,
             "#e6f5d0"
            ],
            [
             0.7,
             "#b8e186"
            ],
            [
             0.8,
             "#7fbc41"
            ],
            [
             0.9,
             "#4d9221"
            ],
            [
             1,
             "#276419"
            ]
           ],
           "sequential": [
            [
             0,
             "#0d0887"
            ],
            [
             0.1111111111111111,
             "#46039f"
            ],
            [
             0.2222222222222222,
             "#7201a8"
            ],
            [
             0.3333333333333333,
             "#9c179e"
            ],
            [
             0.4444444444444444,
             "#bd3786"
            ],
            [
             0.5555555555555556,
             "#d8576b"
            ],
            [
             0.6666666666666666,
             "#ed7953"
            ],
            [
             0.7777777777777778,
             "#fb9f3a"
            ],
            [
             0.8888888888888888,
             "#fdca26"
            ],
            [
             1,
             "#f0f921"
            ]
           ],
           "sequentialminus": [
            [
             0,
             "#0d0887"
            ],
            [
             0.1111111111111111,
             "#46039f"
            ],
            [
             0.2222222222222222,
             "#7201a8"
            ],
            [
             0.3333333333333333,
             "#9c179e"
            ],
            [
             0.4444444444444444,
             "#bd3786"
            ],
            [
             0.5555555555555556,
             "#d8576b"
            ],
            [
             0.6666666666666666,
             "#ed7953"
            ],
            [
             0.7777777777777778,
             "#fb9f3a"
            ],
            [
             0.8888888888888888,
             "#fdca26"
            ],
            [
             1,
             "#f0f921"
            ]
           ]
          },
          "colorway": [
           "#636efa",
           "#EF553B",
           "#00cc96",
           "#ab63fa",
           "#FFA15A",
           "#19d3f3",
           "#FF6692",
           "#B6E880",
           "#FF97FF",
           "#FECB52"
          ],
          "font": {
           "color": "#2a3f5f"
          },
          "geo": {
           "bgcolor": "white",
           "lakecolor": "white",
           "landcolor": "#E5ECF6",
           "showlakes": true,
           "showland": true,
           "subunitcolor": "white"
          },
          "hoverlabel": {
           "align": "left"
          },
          "hovermode": "closest",
          "mapbox": {
           "style": "light"
          },
          "paper_bgcolor": "white",
          "plot_bgcolor": "#E5ECF6",
          "polar": {
           "angularaxis": {
            "gridcolor": "white",
            "linecolor": "white",
            "ticks": ""
           },
           "bgcolor": "#E5ECF6",
           "radialaxis": {
            "gridcolor": "white",
            "linecolor": "white",
            "ticks": ""
           }
          },
          "scene": {
           "xaxis": {
            "backgroundcolor": "#E5ECF6",
            "gridcolor": "white",
            "gridwidth": 2,
            "linecolor": "white",
            "showbackground": true,
            "ticks": "",
            "zerolinecolor": "white"
           },
           "yaxis": {
            "backgroundcolor": "#E5ECF6",
            "gridcolor": "white",
            "gridwidth": 2,
            "linecolor": "white",
            "showbackground": true,
            "ticks": "",
            "zerolinecolor": "white"
           },
           "zaxis": {
            "backgroundcolor": "#E5ECF6",
            "gridcolor": "white",
            "gridwidth": 2,
            "linecolor": "white",
            "showbackground": true,
            "ticks": "",
            "zerolinecolor": "white"
           }
          },
          "shapedefaults": {
           "line": {
            "color": "#2a3f5f"
           }
          },
          "ternary": {
           "aaxis": {
            "gridcolor": "white",
            "linecolor": "white",
            "ticks": ""
           },
           "baxis": {
            "gridcolor": "white",
            "linecolor": "white",
            "ticks": ""
           },
           "bgcolor": "#E5ECF6",
           "caxis": {
            "gridcolor": "white",
            "linecolor": "white",
            "ticks": ""
           }
          },
          "title": {
           "x": 0.05
          },
          "xaxis": {
           "automargin": true,
           "gridcolor": "white",
           "linecolor": "white",
           "ticks": "",
           "title": {
            "standoff": 15
           },
           "zerolinecolor": "white",
           "zerolinewidth": 2
          },
          "yaxis": {
           "automargin": true,
           "gridcolor": "white",
           "linecolor": "white",
           "ticks": "",
           "title": {
            "standoff": 15
           },
           "zerolinecolor": "white",
           "zerolinewidth": 2
          }
         }
        },
        "title": {
         "text": "Goalkeeper Performance Radar: Reading FC vs Mansfield"
        }
       }
      }
     },
     "metadata": {},
     "output_type": "display_data"
    }
   ],
   "source": [
    "# Define Goalkeeper categories\n",
    "goalkeeper_categories = ['Saves', 'xGOT', 'Goals Prevented']\n",
    "\n",
    "# Raw values\n",
    "reading_goalkeeper_vals = [\n",
    "    match['rfc_GK_Saves'],\n",
    "    match['rfc_xGOT_Faced'],\n",
    "    match['rfc_GK_Goals_Prevented']\n",
    "]\n",
    "\n",
    "opp_goalkeeper_vals = [\n",
    "    match['opp_GK_Saves'],\n",
    "    match['opp_xGOT_Faced'],\n",
    "    match['opp_GK_Goals_Prevented']\n",
    "]\n",
    "\n",
    "# Normalize (so each stat is 0–1 range)\n",
    "max_vals = [max(r, o) if max(r, o) > 0 else 1 for r, o in zip(reading_goalkeeper_vals, opp_goalkeeper_vals)]\n",
    "reading_norm = [r / m for r, m in zip(reading_goalkeeper_vals, max_vals)]\n",
    "opp_norm = [o / m for o, m in zip(opp_goalkeeper_vals, max_vals)]\n",
    "\n",
    "# Create radar chart\n",
    "fig = go.Figure()\n",
    "\n",
    "fig.add_trace(go.Scatterpolar(\n",
    "    r=reading_norm + [reading_norm[0]],\n",
    "    theta=goalkeeper_categories + [goalkeeper_categories[0]],\n",
    "    fill='toself',\n",
    "    name='Reading FC',\n",
    "    line=dict(color='royalblue')\n",
    "))\n",
    "\n",
    "fig.add_trace(go.Scatterpolar(\n",
    "    r=opp_norm + [opp_norm[0]],\n",
    "    theta=goalkeeper_categories + [goalkeeper_categories[0]],\n",
    "    fill='toself',\n",
    "    name='Mansfield',\n",
    "    line=dict(color='red')\n",
    "))\n",
    "\n",
    "# Layout tweaks\n",
    "fig.update_layout(\n",
    "    polar=dict(\n",
    "        radialaxis=dict(visible=True, range=[0, 1], showticklabels=False)\n",
    "    ),\n",
    "    title=\"Goalkeeper Performance Radar: Reading FC vs Mansfield\",\n",
    "    showlegend=True\n",
    ")\n",
    "\n",
    "fig.show()"
   ]
  }
 ],
 "metadata": {
  "kernelspec": {
   "display_name": "base",
   "language": "python",
   "name": "python3"
  },
  "language_info": {
   "codemirror_mode": {
    "name": "ipython",
    "version": 3
   },
   "file_extension": ".py",
   "mimetype": "text/x-python",
   "name": "python",
   "nbconvert_exporter": "python",
   "pygments_lexer": "ipython3",
   "version": "3.11.7"
  }
 },
 "nbformat": 4,
 "nbformat_minor": 5
}
