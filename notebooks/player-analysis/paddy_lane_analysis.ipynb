{
 "cells": [
  {
   "cell_type": "markdown",
   "id": "a849804e",
   "metadata": {},
   "source": [
    "# Analysis on new signing Paddy Lane"
   ]
  },
  {
   "cell_type": "markdown",
   "id": "178534c4",
   "metadata": {},
   "source": [
    "- Paddy is a Right winger who can also play on the Left Wing\n",
    "- Played in Portsmouth 23/24 promotion season\n",
    "- Using his 22/23, 23/24 & 24/25 performance data, I will be forecasting what we can expect from him if we he were to play a full season"
   ]
  },
  {
   "cell_type": "code",
   "execution_count": 18,
   "id": "0b3a3566",
   "metadata": {},
   "outputs": [
    {
     "data": {
      "text/html": [
       "<div>\n",
       "<style scoped>\n",
       "    .dataframe tbody tr th:only-of-type {\n",
       "        vertical-align: middle;\n",
       "    }\n",
       "\n",
       "    .dataframe tbody tr th {\n",
       "        vertical-align: top;\n",
       "    }\n",
       "\n",
       "    .dataframe thead th {\n",
       "        text-align: right;\n",
       "    }\n",
       "</style>\n",
       "<table border=\"1\" class=\"dataframe\">\n",
       "  <thead>\n",
       "    <tr style=\"text-align: right;\">\n",
       "      <th></th>\n",
       "      <th>Name</th>\n",
       "      <th>Age</th>\n",
       "      <th>Rating</th>\n",
       "      <th>League</th>\n",
       "      <th>Club</th>\n",
       "      <th>Season</th>\n",
       "      <th>Appearances</th>\n",
       "      <th>Mins</th>\n",
       "      <th>Goals</th>\n",
       "      <th>Assists</th>\n",
       "      <th>Shots_Per_Game</th>\n",
       "      <th>Xg/90</th>\n",
       "      <th>Avg_Passes</th>\n",
       "      <th>Key_Passes</th>\n",
       "      <th>Pass_Percentage</th>\n",
       "      <th>Dribbles</th>\n",
       "    </tr>\n",
       "  </thead>\n",
       "  <tbody>\n",
       "    <tr>\n",
       "      <th>0</th>\n",
       "      <td>Paddy Lane</td>\n",
       "      <td>24</td>\n",
       "      <td>6.32</td>\n",
       "      <td>Championship</td>\n",
       "      <td>Portsmouth</td>\n",
       "      <td>24/25</td>\n",
       "      <td>22</td>\n",
       "      <td>1072</td>\n",
       "      <td>1</td>\n",
       "      <td>1</td>\n",
       "      <td>0.92</td>\n",
       "      <td>0.13</td>\n",
       "      <td>19.39</td>\n",
       "      <td>1.09</td>\n",
       "      <td>72.41</td>\n",
       "      <td>1.09</td>\n",
       "    </tr>\n",
       "    <tr>\n",
       "      <th>1</th>\n",
       "      <td>Paddy Lane</td>\n",
       "      <td>23</td>\n",
       "      <td>6.97</td>\n",
       "      <td>League one</td>\n",
       "      <td>Portsmouth</td>\n",
       "      <td>23/24</td>\n",
       "      <td>42</td>\n",
       "      <td>3015</td>\n",
       "      <td>12</td>\n",
       "      <td>7</td>\n",
       "      <td>1.64</td>\n",
       "      <td>0.36</td>\n",
       "      <td>26.03</td>\n",
       "      <td>1.10</td>\n",
       "      <td>73.28</td>\n",
       "      <td>1.55</td>\n",
       "    </tr>\n",
       "    <tr>\n",
       "      <th>2</th>\n",
       "      <td>Paddy Lane</td>\n",
       "      <td>22</td>\n",
       "      <td>6.68</td>\n",
       "      <td>League one</td>\n",
       "      <td>Portsmouth</td>\n",
       "      <td>22/23</td>\n",
       "      <td>35</td>\n",
       "      <td>1661</td>\n",
       "      <td>2</td>\n",
       "      <td>1</td>\n",
       "      <td>0.87</td>\n",
       "      <td>0.11</td>\n",
       "      <td>25.51</td>\n",
       "      <td>1.28</td>\n",
       "      <td>74.03</td>\n",
       "      <td>2.09</td>\n",
       "    </tr>\n",
       "  </tbody>\n",
       "</table>\n",
       "</div>"
      ],
      "text/plain": [
       "         Name  Age  Rating        League        Club Season  Appearances  \\\n",
       "0  Paddy Lane   24    6.32  Championship  Portsmouth  24/25           22   \n",
       "1  Paddy Lane   23    6.97    League one  Portsmouth  23/24           42   \n",
       "2  Paddy Lane   22    6.68    League one  Portsmouth  22/23           35   \n",
       "\n",
       "   Mins  Goals  Assists  Shots_Per_Game  Xg/90  Avg_Passes  Key_Passes  \\\n",
       "0  1072      1        1            0.92   0.13       19.39        1.09   \n",
       "1  3015     12        7            1.64   0.36       26.03        1.10   \n",
       "2  1661      2        1            0.87   0.11       25.51        1.28   \n",
       "\n",
       "   Pass_Percentage  Dribbles  \n",
       "0            72.41      1.09  \n",
       "1            73.28      1.55  \n",
       "2            74.03      2.09  "
      ]
     },
     "execution_count": 18,
     "metadata": {},
     "output_type": "execute_result"
    }
   ],
   "source": [
    "import pandas as pd\n",
    "\n",
    "df = pd.read_csv('../../data/paddy_lane_analysis.csv')\n",
    "df.head()\n"
   ]
  },
  {
   "cell_type": "code",
   "execution_count": 19,
   "id": "2a7aee65",
   "metadata": {},
   "outputs": [
    {
     "data": {
      "text/plain": [
       "Index(['Name', 'Age', 'Rating', 'League', 'Club', 'Season', 'Appearances',\n",
       "       'Mins', 'Goals', 'Assists', 'Shots_Per_Game', 'Xg/90', 'Avg_Passes',\n",
       "       'Key_Passes', 'Pass_Percentage', 'Dribbles'],\n",
       "      dtype='object')"
      ]
     },
     "execution_count": 19,
     "metadata": {},
     "output_type": "execute_result"
    }
   ],
   "source": [
    "df.columns"
   ]
  },
  {
   "cell_type": "code",
   "execution_count": 20,
   "id": "c375cabe",
   "metadata": {},
   "outputs": [
    {
     "name": "stdout",
     "output_type": "stream",
     "text": [
      "         Name  Goals_full_season  Assists_full_season\n",
      "0  Paddy Lane           3.861940             3.861940\n",
      "1  Paddy Lane          16.477612             9.611940\n",
      "2  Paddy Lane           4.984949             2.492474\n"
     ]
    }
   ],
   "source": [
    "# Normalize counting stats to a 46-game season \n",
    "# Per-game stats (multiply by max minutes)\n",
    "# players can play the same games but not the same mins i.e, being a substitute \n",
    "\n",
    "import pandas as pd\n",
    "\n",
    "# Full season minutes (46 games × 90 minutes)\n",
    "full_season_mins = 46 * 90  # 4140 minutes\n",
    "\n",
    "# Counting stats you want to normalize\n",
    "counting_stats = ['Goals', 'Assists']\n",
    "\n",
    "# Replace 0 minutes with NaN to avoid division errors\n",
    "df['Mins'] = df['Mins'].replace(0, pd.NA)\n",
    "\n",
    "# Normalize goals and assists by minutes played\n",
    "for col in counting_stats:\n",
    "    df[f'{col}_full_season'] = df[col] * (full_season_mins / df['Mins'])\n",
    "\n",
    "# Select only the normalized goals and assists columns\n",
    "normalized_cols = [f'{stat}_full_season' for stat in counting_stats]\n",
    "\n",
    "# Print player names with normalized goals and assists\n",
    "print(df[['Name'] + normalized_cols])"
   ]
  },
  {
   "cell_type": "code",
   "execution_count": 21,
   "id": "8ec39b1d",
   "metadata": {},
   "outputs": [
    {
     "name": "stdout",
     "output_type": "stream",
     "text": [
      "   Shots_Per_Game  Xg/90  Avg_Passes  Key_Passes  Pass_Percentage  Dribbles  \\\n",
      "0            0.92   0.13       19.39        1.09            72.41      1.09   \n",
      "1            1.64   0.36       26.03        1.10            73.28      1.55   \n",
      "2            0.87   0.11       25.51        1.28            74.03      2.09   \n",
      "\n",
      "   Goals_full_season  Assists_full_season  \n",
      "0           3.861940             3.861940  \n",
      "1          16.477612             9.611940  \n",
      "2           4.984949             2.492474  \n"
     ]
    }
   ],
   "source": [
    "#printing normalised columns along with other columns for an easy view of Paddy Lanes' season performances in League one and the Championship\n",
    "\n",
    "other_cols = ['Shots_Per_Game', 'Xg/90', 'Avg_Passes', 'Key_Passes', 'Pass_Percentage', 'Dribbles'] \n",
    "\n",
    "# The normalized columns for goals and assists\n",
    "normalized_cols = ['Goals_full_season', 'Assists_full_season']\n",
    "\n",
    "# Select Daniel’s row and print desired columns\n",
    "print(df.loc[df['Name'] == 'Paddy Lane', other_cols + normalized_cols])"
   ]
  },
  {
   "cell_type": "code",
   "execution_count": 23,
   "id": "cc31bc3f",
   "metadata": {},
   "outputs": [],
   "source": [
    "# Instead of multiplying down, apply inverted (boosted) multipliers\n",
    "multipliers = {\n",
    "    'Goals_full_season': 1 / 0.90,           # ~1.11\n",
    "    'Assists_full_season': 1 / 0.90,\n",
    "    'Shots_Per_Game': 1 / 0.95,\n",
    "    'Xg/90': 1 / 0.90,\n",
    "    'Avg_Passes': 1 / 0.95,\n",
    "    'Key_Passes': 1 / 0.90,\n",
    "    'Pass_Percentage': 1.00,                # no change\n",
    "    'Dribbles': 1 / 0.90\n",
    "}\n",
    "\n",
    "mask = (df['Name'] == 'Paddy Lane') & (df['League'] == 'Championship')\n",
    "\n",
    "for stat, factor in multipliers.items():\n",
    "    adjusted_col = stat + '_L1_adj'\n",
    "    df.loc[mask, adjusted_col] = df.loc[mask, stat] * factor\n",
    "\n"
   ]
  },
  {
   "cell_type": "code",
   "execution_count": 25,
   "id": "3b168c95",
   "metadata": {},
   "outputs": [],
   "source": [
    "# Step 1: Define the original stat columns you care about\n",
    "base_stats = [\n",
    "    'Goals_full_season', 'Assists_full_season', 'Shots_Per_Game', 'Xg/90',\n",
    "    'Avg_Passes', 'Key_Passes', 'Pass_Percentage', 'Dribbles'\n",
    "]\n",
    "\n",
    "# Step 2: Build the \"_L1_adj\" version of those columns\n",
    "adjusted_stats = [stat + '_L1_adj' for stat in base_stats]\n",
    "\n",
    "# Step 3: Create new consistent columns that hold adjusted values (if Championship season), or original values\n",
    "for orig, adj in zip(base_stats, adjusted_stats):\n",
    "    df[f'{orig}_L1_equiv'] = df[orig]  # default to original\n",
    "    df.loc[(df['Name'] == 'Paddy Lane') & (df['League'] == 'Championship'), f'{orig}_L1_equiv'] = df.loc[\n",
    "        (df['Name'] == 'Paddy Lane') & (df['League'] == 'Championship'), adj\n",
    "    ]\n"
   ]
  },
  {
   "cell_type": "code",
   "execution_count": 26,
   "id": "4e423643",
   "metadata": {},
   "outputs": [
    {
     "name": "stdout",
     "output_type": "stream",
     "text": [
      "         Name Season        League  Goals_full_season_L1_equiv  \\\n",
      "0  Paddy Lane  24/25  Championship                    4.291045   \n",
      "1  Paddy Lane  23/24    League one                   16.477612   \n",
      "2  Paddy Lane  22/23    League one                    4.984949   \n",
      "\n",
      "   Assists_full_season_L1_equiv  Shots_Per_Game_L1_equiv  Xg/90_L1_equiv  \\\n",
      "0                      4.291045                 0.968421        0.144444   \n",
      "1                      9.611940                 1.640000        0.360000   \n",
      "2                      2.492474                 0.870000        0.110000   \n",
      "\n",
      "   Avg_Passes_L1_equiv  Key_Passes_L1_equiv  Pass_Percentage_L1_equiv  \\\n",
      "0            20.410526             1.211111                     72.41   \n",
      "1            26.030000             1.100000                     73.28   \n",
      "2            25.510000             1.280000                     74.03   \n",
      "\n",
      "   Dribbles_L1_equiv  \n",
      "0           1.211111  \n",
      "1           1.550000  \n",
      "2           2.090000  \n"
     ]
    }
   ],
   "source": [
    "# Columns to show\n",
    "view_cols = ['Season', 'League'] + [f'{stat}_L1_equiv' for stat in base_stats]\n",
    "\n",
    "# Filter rows for Paddy Lane\n",
    "paddy_lane_l1_equiv = df[df['Name'] == 'Paddy Lane'][['Name'] + view_cols]\n",
    "\n",
    "# Display the table\n",
    "print(paddy_lane_l1_equiv)\n"
   ]
  },
  {
   "cell_type": "code",
   "execution_count": 27,
   "id": "ed06c0a8",
   "metadata": {},
   "outputs": [],
   "source": [
    "forecast_stats = [\n",
    "    'Goals_full_season_L1_equiv',\n",
    "    'Assists_full_season_L1_equiv',\n",
    "    'Shots_Per_Game_L1_equiv',\n",
    "    'Xg/90_L1_equiv',\n",
    "    'Avg_Passes_L1_equiv',\n",
    "    'Key_Passes_L1_equiv',\n",
    "    'Pass_Percentage_L1_equiv',\n",
    "    'Dribbles_L1_equiv'\n",
    "]\n"
   ]
  },
  {
   "cell_type": "code",
   "execution_count": 28,
   "id": "35c256f8",
   "metadata": {},
   "outputs": [],
   "source": [
    "# Convert Season string to numeric (e.g., 22/23 → 2023)\n",
    "season_map = {'22/23': 2023, '23/24': 2024, '24/25': 2025}\n",
    "df['Season_Num'] = df['Season'].map(season_map)\n"
   ]
  },
  {
   "cell_type": "code",
   "execution_count": 29,
   "id": "342affdb",
   "metadata": {},
   "outputs": [],
   "source": [
    "paddy_data = df[df['Name'] == 'Paddy Lane']\n"
   ]
  },
  {
   "cell_type": "code",
   "execution_count": 30,
   "id": "1eb01a90",
   "metadata": {},
   "outputs": [],
   "source": [
    "from sklearn.linear_model import LinearRegression\n",
    "import numpy as np\n",
    "\n",
    "forecast = {}\n",
    "target_season = 2026\n",
    "\n",
    "for stat in forecast_stats:\n",
    "    model = LinearRegression()\n",
    "    \n",
    "    # Prepare inputs\n",
    "    X = paddy_data[['Season_Num']].values\n",
    "    y = paddy_data[stat].values\n",
    "\n",
    "    # Fit and predict\n",
    "    model.fit(X, y)\n",
    "    forecast[stat.replace('_L1_equiv', '') + '_25_26'] = model.predict(np.array([[target_season]]))[0]\n"
   ]
  },
  {
   "cell_type": "code",
   "execution_count": 31,
   "id": "4a66007b",
   "metadata": {},
   "outputs": [
    {
     "name": "stdout",
     "output_type": "stream",
     "text": [
      "                                    0\n",
      "Name                       Paddy Lane\n",
      "Season                          25/26\n",
      "Goals_full_season_25_26      7.890631\n",
      "Assists_full_season_25_26    7.263724\n",
      "Shots_Per_Game_25_26         1.257895\n",
      "Xg/90_25_26                  0.239259\n",
      "Avg_Passes_25_26            18.884035\n",
      "Key_Passes_25_26             1.128148\n",
      "Pass_Percentage_25_26           71.62\n",
      "Dribbles_25_26               0.738148\n"
     ]
    }
   ],
   "source": [
    "import pandas as pd\n",
    "\n",
    "forecast_df = pd.DataFrame([forecast])\n",
    "forecast_df.insert(0, 'Name', 'Paddy Lane')\n",
    "forecast_df.insert(1, 'Season', '25/26')\n",
    "print(forecast_df.T)\n"
   ]
  }
 ],
 "metadata": {
  "kernelspec": {
   "display_name": "base",
   "language": "python",
   "name": "python3"
  },
  "language_info": {
   "codemirror_mode": {
    "name": "ipython",
    "version": 3
   },
   "file_extension": ".py",
   "mimetype": "text/x-python",
   "name": "python",
   "nbconvert_exporter": "python",
   "pygments_lexer": "ipython3",
   "version": "3.11.7"
  }
 },
 "nbformat": 4,
 "nbformat_minor": 5
}
