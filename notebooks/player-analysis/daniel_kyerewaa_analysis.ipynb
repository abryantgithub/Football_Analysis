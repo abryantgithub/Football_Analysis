{
 "cells": [
  {
   "cell_type": "markdown",
   "id": "5fd2c248",
   "metadata": {},
   "source": [
    "# Analysis on new Bundesliga 2 signing Daniel Kyerewaa\n"
   ]
  },
  {
   "cell_type": "markdown",
   "id": "35aa957d",
   "metadata": {},
   "source": [
    "- Daniel is a right winger who has played for Bundesliga 2 side Munster for the last two seasons.\n",
    "- Using his performance data and rough assumption of Bundesliga 2 vs League one difficulty, I will be translating his performance to see what we can expect from him in the 25/26 League 1 for Reading FC\n",
    "- Bundesliga 2 is considered more difficult than League one but not as tough as the championship so depending on the stat, will be using a 1.1-1.35 x multiplyer"
   ]
  },
  {
   "cell_type": "code",
   "execution_count": 33,
   "id": "aa0fd2d7",
   "metadata": {},
   "outputs": [
    {
     "data": {
      "text/html": [
       "<div>\n",
       "<style scoped>\n",
       "    .dataframe tbody tr th:only-of-type {\n",
       "        vertical-align: middle;\n",
       "    }\n",
       "\n",
       "    .dataframe tbody tr th {\n",
       "        vertical-align: top;\n",
       "    }\n",
       "\n",
       "    .dataframe thead th {\n",
       "        text-align: right;\n",
       "    }\n",
       "</style>\n",
       "<table border=\"1\" class=\"dataframe\">\n",
       "  <thead>\n",
       "    <tr style=\"text-align: right;\">\n",
       "      <th></th>\n",
       "      <th>Name</th>\n",
       "      <th>Age</th>\n",
       "      <th>Rating</th>\n",
       "      <th>League</th>\n",
       "      <th>Club</th>\n",
       "      <th>Season</th>\n",
       "      <th>Appearances</th>\n",
       "      <th>Mins</th>\n",
       "      <th>Position</th>\n",
       "      <th>Alt_Pos</th>\n",
       "      <th>...</th>\n",
       "      <th>Pass_Percentage</th>\n",
       "      <th>Dribbles</th>\n",
       "      <th>Tackles</th>\n",
       "      <th>Interceptions</th>\n",
       "      <th>Fouls</th>\n",
       "      <th>Clearances</th>\n",
       "      <th>Blocks</th>\n",
       "      <th>Play_Style</th>\n",
       "      <th>Strengths</th>\n",
       "      <th>Weaknesses</th>\n",
       "    </tr>\n",
       "  </thead>\n",
       "  <tbody>\n",
       "    <tr>\n",
       "      <th>0</th>\n",
       "      <td>Daniel Kyerewaa</td>\n",
       "      <td>23</td>\n",
       "      <td>6.7</td>\n",
       "      <td>Bundesliga2</td>\n",
       "      <td>Munster</td>\n",
       "      <td>24/25</td>\n",
       "      <td>20</td>\n",
       "      <td>878</td>\n",
       "      <td>RW</td>\n",
       "      <td>RWB</td>\n",
       "      <td>...</td>\n",
       "      <td>83.25</td>\n",
       "      <td>2.09</td>\n",
       "      <td>1.23</td>\n",
       "      <td>1.11</td>\n",
       "      <td>0.74</td>\n",
       "      <td>0.86</td>\n",
       "      <td>0</td>\n",
       "      <td>Likes to dribble</td>\n",
       "      <td>Blocking the ball, Ball interception</td>\n",
       "      <td>Aerial duels, Passing</td>\n",
       "    </tr>\n",
       "  </tbody>\n",
       "</table>\n",
       "<p>1 rows × 28 columns</p>\n",
       "</div>"
      ],
      "text/plain": [
       "              Name  Age  Rating       League     Club Season  Appearances  \\\n",
       "0  Daniel Kyerewaa   23     6.7  Bundesliga2  Munster  24/25           20   \n",
       "\n",
       "   Mins Position Alt_Pos  ...  Pass_Percentage Dribbles  Tackles  \\\n",
       "0   878       RW     RWB  ...            83.25     2.09     1.23   \n",
       "\n",
       "   Interceptions  Fouls  Clearances  Blocks        Play_Style  \\\n",
       "0           1.11   0.74        0.86       0  Likes to dribble   \n",
       "\n",
       "                              Strengths             Weaknesses  \n",
       "0  Blocking the ball, Ball interception  Aerial duels, Passing  \n",
       "\n",
       "[1 rows x 28 columns]"
      ]
     },
     "execution_count": 33,
     "metadata": {},
     "output_type": "execute_result"
    }
   ],
   "source": [
    "import pandas as pd\n",
    "\n",
    "df = pd.read_csv('../../data/daniel_kyerewaa_analysis.csv')\n",
    "df.head()\n"
   ]
  },
  {
   "cell_type": "code",
   "execution_count": 34,
   "id": "b950e430",
   "metadata": {},
   "outputs": [
    {
     "data": {
      "text/plain": [
       "Index(['Name', 'Age', 'Rating', 'League', 'Club', 'Season', 'Appearances',\n",
       "       'Mins', 'Position', 'Alt_Pos', 'Height', 'Foot', 'Goals', 'Assists',\n",
       "       'Shots_Per_Game', 'Xg/90', 'Avg_Passes', 'Key_Passes',\n",
       "       'Pass_Percentage', 'Dribbles', 'Tackles', 'Interceptions', 'Fouls',\n",
       "       'Clearances', 'Blocks', 'Play_Style', 'Strengths', 'Weaknesses'],\n",
       "      dtype='object')"
      ]
     },
     "execution_count": 34,
     "metadata": {},
     "output_type": "execute_result"
    }
   ],
   "source": [
    "df.columns"
   ]
  },
  {
   "cell_type": "code",
   "execution_count": 35,
   "id": "6f87d62b",
   "metadata": {},
   "outputs": [
    {
     "name": "stdout",
     "output_type": "stream",
     "text": [
      "              Name  Goals_full_season  Assists_full_season\n",
      "0  Daniel Kyerewaa          10.455581             3.485194\n"
     ]
    }
   ],
   "source": [
    "# Normalize counting stats to a 34-game season \n",
    "# Per-game stats (multiply by max minutes)\n",
    "# players can play the same games but not the same mins i.e, being a substitute \n",
    "\n",
    "import pandas as pd\n",
    "\n",
    "# Full season minutes (46 games × 90 minutes)\n",
    "full_season_mins = 34 * 90  # 3060 minutes\n",
    "\n",
    "# Counting stats you want to normalize\n",
    "counting_stats = ['Goals', 'Assists']\n",
    "\n",
    "# Replace 0 minutes with NaN to avoid division errors\n",
    "df['Mins'] = df['Mins'].replace(0, pd.NA)\n",
    "\n",
    "# Normalize goals and assists by minutes played\n",
    "for col in counting_stats:\n",
    "    df[f'{col}_full_season'] = df[col] * (full_season_mins / df['Mins'])\n",
    "\n",
    "# Select only the normalized goals and assists columns\n",
    "normalized_cols = [f'{stat}_full_season' for stat in counting_stats]\n",
    "\n",
    "# Print player names with normalized goals and assists\n",
    "print(df[['Name'] + normalized_cols])\n",
    "\n",
    "\n"
   ]
  },
  {
   "cell_type": "code",
   "execution_count": 36,
   "id": "3d778b39",
   "metadata": {},
   "outputs": [
    {
     "name": "stdout",
     "output_type": "stream",
     "text": [
      "   Shots_Per_Game  Xg/90  Avg_Passes  Key_Passes  Pass_Percentage  Dribbles  \\\n",
      "0            1.72   0.31       25.73        0.62            83.25      2.09   \n",
      "\n",
      "   Goals_full_season  Assists_full_season  \n",
      "0          10.455581             3.485194  \n"
     ]
    }
   ],
   "source": [
    "#printing normalised columns along with other columns for an easy view of Daniel Kyerewaas' 24/25 performance in the Bundesliga2\n",
    "\n",
    "other_cols = ['Shots_Per_Game', 'Xg/90', 'Avg_Passes', 'Key_Passes', 'Pass_Percentage', 'Dribbles'] \n",
    "\n",
    "# The normalized columns for goals and assists\n",
    "normalized_cols = ['Goals_full_season', 'Assists_full_season']\n",
    "\n",
    "# Select Daniel’s row and print desired columns\n",
    "print(df.loc[df['Name'] == 'Daniel Kyerewaa', other_cols + normalized_cols])\n"
   ]
  },
  {
   "cell_type": "code",
   "execution_count": 37,
   "id": "871d0baa",
   "metadata": {},
   "outputs": [
    {
     "name": "stdout",
     "output_type": "stream",
     "text": [
      "              Name  Shots_Per_Game_LeagueOne  Xg/90_LeagueOne  \\\n",
      "0  Daniel Kyerewaa                     2.064           0.3875   \n",
      "\n",
      "   Avg_Passes_LeagueOne  Key_Passes_LeagueOne  Pass_Percentage_LeagueOne  \\\n",
      "0               27.0165                 0.744                     84.915   \n",
      "\n",
      "   Dribbles_LeagueOne  Goals_full_season_LeagueOne  \\\n",
      "0              2.4035                    13.592255   \n",
      "\n",
      "   Assists_full_season_LeagueOne  \n",
      "0                       4.356492  \n"
     ]
    }
   ],
   "source": [
    "# Translating performance to League one\n",
    "\n",
    "# Multipliers for translating to League One level\n",
    "multipliers = {\n",
    "    'Shots_Per_Game': 1.2,\n",
    "    'Xg/90': 1.25,\n",
    "    'Avg_Passes': 1.05,\n",
    "    'Key_Passes': 1.2,\n",
    "    'Pass_Percentage': 1.02,\n",
    "    'Dribbles': 1.15,\n",
    "    'Goals_full_season': 1.3,\n",
    "    'Assists_full_season': 1.25\n",
    "}\n",
    "\n",
    "# Apply only to Daniel Kyerewaa\n",
    "daniel_mask = df['Name'].str.contains('Daniel Kyerewaa', case=False, na=False)\n",
    "\n",
    "# For each stat, create a translated version\n",
    "for stat, multiplier in multipliers.items():\n",
    "    translated_stat = f'{stat}_LeagueOne'\n",
    "    df.loc[daniel_mask, translated_stat] = df.loc[daniel_mask, stat] * multiplier\n",
    "\n",
    "# Show Daniel's translated stats\n",
    "translated_cols = [f'{stat}_LeagueOne' for stat in multipliers.keys()]\n",
    "print(df.loc[daniel_mask, ['Name'] + translated_cols])\n"
   ]
  },
  {
   "cell_type": "markdown",
   "id": "1dea093b",
   "metadata": {},
   "source": [
    "# Importing top League one Wingers in the 24/25 season to see how Daniel Kyerewaa would've ranked amognst them"
   ]
  },
  {
   "cell_type": "code",
   "execution_count": 38,
   "id": "e5e7430c",
   "metadata": {},
   "outputs": [
    {
     "data": {
      "text/html": [
       "<div>\n",
       "<style scoped>\n",
       "    .dataframe tbody tr th:only-of-type {\n",
       "        vertical-align: middle;\n",
       "    }\n",
       "\n",
       "    .dataframe tbody tr th {\n",
       "        vertical-align: top;\n",
       "    }\n",
       "\n",
       "    .dataframe thead th {\n",
       "        text-align: right;\n",
       "    }\n",
       "</style>\n",
       "<table border=\"1\" class=\"dataframe\">\n",
       "  <thead>\n",
       "    <tr style=\"text-align: right;\">\n",
       "      <th></th>\n",
       "      <th>Name</th>\n",
       "      <th>Age</th>\n",
       "      <th>Rating</th>\n",
       "      <th>Season</th>\n",
       "      <th>Appearances</th>\n",
       "      <th>Mins</th>\n",
       "      <th>Goals</th>\n",
       "      <th>Assists</th>\n",
       "      <th>Shots_Per_Game</th>\n",
       "      <th>Xg/90</th>\n",
       "      <th>Avg_Passes</th>\n",
       "      <th>Key_Passes</th>\n",
       "      <th>Pass_Percentage</th>\n",
       "      <th>Dribbles</th>\n",
       "    </tr>\n",
       "  </thead>\n",
       "  <tbody>\n",
       "    <tr>\n",
       "      <th>0</th>\n",
       "      <td>Keshi Anderson</td>\n",
       "      <td>30</td>\n",
       "      <td>7.79</td>\n",
       "      <td>24/25</td>\n",
       "      <td>37</td>\n",
       "      <td>2220</td>\n",
       "      <td>7</td>\n",
       "      <td>5</td>\n",
       "      <td>1.1</td>\n",
       "      <td>0.18</td>\n",
       "      <td>24.7</td>\n",
       "      <td>1.2</td>\n",
       "      <td>82.3</td>\n",
       "      <td>1.3</td>\n",
       "    </tr>\n",
       "    <tr>\n",
       "      <th>1</th>\n",
       "      <td>Ryan Longman</td>\n",
       "      <td>24</td>\n",
       "      <td>7.22</td>\n",
       "      <td>24/25</td>\n",
       "      <td>19</td>\n",
       "      <td>1237</td>\n",
       "      <td>1</td>\n",
       "      <td>4</td>\n",
       "      <td>0.9</td>\n",
       "      <td>0.08</td>\n",
       "      <td>22.1</td>\n",
       "      <td>1.0</td>\n",
       "      <td>73.1</td>\n",
       "      <td>0.9</td>\n",
       "    </tr>\n",
       "    <tr>\n",
       "      <th>2</th>\n",
       "      <td>Tyreece Campbell</td>\n",
       "      <td>21</td>\n",
       "      <td>6.90</td>\n",
       "      <td>24/25</td>\n",
       "      <td>46</td>\n",
       "      <td>3541</td>\n",
       "      <td>7</td>\n",
       "      <td>1</td>\n",
       "      <td>1.4</td>\n",
       "      <td>0.11</td>\n",
       "      <td>16.6</td>\n",
       "      <td>1.0</td>\n",
       "      <td>78.2</td>\n",
       "      <td>1.5</td>\n",
       "    </tr>\n",
       "    <tr>\n",
       "      <th>3</th>\n",
       "      <td>Daniel Udoh</td>\n",
       "      <td>28</td>\n",
       "      <td>7.77</td>\n",
       "      <td>24/25</td>\n",
       "      <td>43</td>\n",
       "      <td>2677</td>\n",
       "      <td>9</td>\n",
       "      <td>3</td>\n",
       "      <td>1.3</td>\n",
       "      <td>0.28</td>\n",
       "      <td>12.6</td>\n",
       "      <td>0.7</td>\n",
       "      <td>69.4</td>\n",
       "      <td>0.7</td>\n",
       "    </tr>\n",
       "    <tr>\n",
       "      <th>4</th>\n",
       "      <td>Kwame Poku</td>\n",
       "      <td>23</td>\n",
       "      <td>7.30</td>\n",
       "      <td>24/25</td>\n",
       "      <td>27</td>\n",
       "      <td>2066</td>\n",
       "      <td>12</td>\n",
       "      <td>8</td>\n",
       "      <td>2.4</td>\n",
       "      <td>0.25</td>\n",
       "      <td>25.4</td>\n",
       "      <td>1.2</td>\n",
       "      <td>79.6</td>\n",
       "      <td>1.9</td>\n",
       "    </tr>\n",
       "  </tbody>\n",
       "</table>\n",
       "</div>"
      ],
      "text/plain": [
       "               Name  Age  Rating Season  Appearances  Mins  Goals  Assists  \\\n",
       "0    Keshi Anderson   30    7.79  24/25           37  2220      7        5   \n",
       "1      Ryan Longman   24    7.22  24/25           19  1237      1        4   \n",
       "2  Tyreece Campbell   21    6.90  24/25           46  3541      7        1   \n",
       "3       Daniel Udoh   28    7.77  24/25           43  2677      9        3   \n",
       "4        Kwame Poku   23    7.30  24/25           27  2066     12        8   \n",
       "\n",
       "   Shots_Per_Game  Xg/90  Avg_Passes  Key_Passes  Pass_Percentage  Dribbles  \n",
       "0             1.1   0.18        24.7         1.2             82.3       1.3  \n",
       "1             0.9   0.08        22.1         1.0             73.1       0.9  \n",
       "2             1.4   0.11        16.6         1.0             78.2       1.5  \n",
       "3             1.3   0.28        12.6         0.7             69.4       0.7  \n",
       "4             2.4   0.25        25.4         1.2             79.6       1.9  "
      ]
     },
     "execution_count": 38,
     "metadata": {},
     "output_type": "execute_result"
    }
   ],
   "source": [
    "import pandas as pd\n",
    "\n",
    "# Load League One wingers data\n",
    "df2 = pd.read_csv('../../data/league1_wingers.csv')\n",
    "df2.head()"
   ]
  },
  {
   "cell_type": "code",
   "execution_count": 39,
   "id": "9a6367c7",
   "metadata": {},
   "outputs": [],
   "source": [
    "full_season_mins_league1 = 46 * 90  # 4140 minutes\n",
    "\n",
    "# Replace 0 minutes with NaN to avoid division errors\n",
    "df2['Mins'] = df2['Mins'].replace(0, pd.NA)\n",
    "\n",
    "# Normalize the counting stats by minutes played\n",
    "counting_stats = ['Goals', 'Assists'] \n",
    "\n",
    "for col in counting_stats:\n",
    "    df2[f'{col}_full_season'] = df2[col] * (full_season_mins_league1 / df2['Mins'])\n"
   ]
  },
  {
   "cell_type": "code",
   "execution_count": 40,
   "id": "285214e6",
   "metadata": {},
   "outputs": [],
   "source": [
    "scaling_factor = full_season_mins_league1 / (34 * 90)  # 4140 / 3060\n",
    "\n",
    "for stat in ['Goals_full_season', 'Assists_full_season']:\n",
    "    df.loc[df['Name'].str.contains('Daniel Kyerewaa', case=False, na=False), f'{stat}_46g'] = \\\n",
    "        df.loc[df['Name'].str.contains('Daniel Kyerewaa', case=False, na=False), stat] * scaling_factor\n"
   ]
  },
  {
   "cell_type": "code",
   "execution_count": 41,
   "id": "96776cb9",
   "metadata": {},
   "outputs": [],
   "source": [
    "import numpy as np\n",
    "\n",
    "# Get Daniel's data as a dataframe with matching columns\n",
    "daniel_stats = df.loc[df['Name'].str.contains('Daniel Kyerewaa', case=False, na=False), ['Name'] + [f'{stat}_46g' for stat in ['Goals_full_season', 'Assists_full_season']]]\n",
    "\n",
    "# Rename columns to remove '_46g' suffix for consistency\n",
    "daniel_stats.rename(columns={\n",
    "    'Goals_full_season_46g': 'Goals_full_season',\n",
    "    'Assists_full_season_46g': 'Assists_full_season'\n",
    "}, inplace=True)\n",
    "\n",
    "# Select same columns from league1 dataset\n",
    "league1_stats = df2[['Name'] + [f'{stat}_full_season' for stat in counting_stats]]\n",
    "\n",
    "# Combine into one dataframe\n",
    "combined_df = pd.concat([league1_stats, daniel_stats], ignore_index=True, sort=False)\n"
   ]
  },
  {
   "cell_type": "code",
   "execution_count": 42,
   "id": "c2c2d1ba",
   "metadata": {},
   "outputs": [
    {
     "data": {
      "image/png": "[encoded data removed]",
      "text/plain": [
       "<Figure size 1000x600 with 1 Axes>"
      ]
     },
     "metadata": {},
     "output_type": "display_data"
    },
    {
     "data": {
      "image/png": "[encoded data removed]",
      "text/plain": [
       "<Figure size 1000x600 with 1 Axes>"
      ]
     },
     "metadata": {},
     "output_type": "display_data"
    }
   ],
   "source": [
    "import matplotlib.pyplot as plt\n",
    "import seaborn as sns\n",
    "\n",
    "def plot_top_stat(df, stat_col, top_n=10):\n",
    "    # Get top N players by stat descending\n",
    "    top_players = df.sort_values(stat_col, ascending=False).head(top_n)\n",
    "\n",
    "    # Adding Daniel Kyerewaa \n",
    "    if not top_players['Name'].str.lower().str.strip().eq('daniel kyerewaa').any():\n",
    "        daniel_row = df[df['Name'].str.lower().str.strip() == 'daniel kyerewaa']\n",
    "        top_players = pd.concat([top_players, daniel_row])\n",
    "\n",
    "    # Sort ascending for horizontal barplot and invert y-axis so highest at top\n",
    "    top_players = top_players.sort_values(stat_col, ascending=True)\n",
    "\n",
    "    # Prepare color list: blue for Daniel Kyerewaa, grey for others\n",
    "    clean_names = top_players['Name'].str.lower().str.strip()\n",
    "    colors = ['#1f77b4' if name == 'daniel kyerewaa' else 'grey' for name in clean_names]\n",
    "\n",
    "    plt.figure(figsize=(10,6))\n",
    "    ax = sns.barplot(x=stat_col, y='Name', data=top_players, palette=colors)\n",
    "    plt.title(f'Top {top_n} Players by {stat_col.replace(\"_full_season\", \"\").capitalize()} (including Daniel Kyerewaa)')\n",
    "    plt.xlabel(stat_col.replace('_full_season', '').capitalize())\n",
    "    plt.ylabel('Name')\n",
    "    plt.tight_layout()\n",
    "    ax.invert_yaxis()  \n",
    "    plt.show()\n",
    "\n",
    "plot_top_stat(combined_df, 'Goals_full_season', top_n=10)\n",
    "plot_top_stat(combined_df, 'Assists_full_season', top_n=10)\n",
    "\n",
    "\n",
    "\n"
   ]
  }
 ],
 "metadata": {
  "kernelspec": {
   "display_name": "base",
   "language": "python",
   "name": "python3"
  },
  "language_info": {
   "codemirror_mode": {
    "name": "ipython",
    "version": 3
   },
   "file_extension": ".py",
   "mimetype": "text/x-python",
   "name": "python",
   "nbconvert_exporter": "python",
   "pygments_lexer": "ipython3",
   "version": "3.11.7"
  }
 },
 "nbformat": 4,
 "nbformat_minor": 5
}
